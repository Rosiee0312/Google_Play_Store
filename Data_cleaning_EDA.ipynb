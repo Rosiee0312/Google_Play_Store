{
 "cells": [
  {
   "cell_type": "markdown",
   "metadata": {},
   "source": [
    "# Google Play Store"
   ]
  },
  {
   "cell_type": "markdown",
   "metadata": {},
   "source": [
    "## Table of Contents"
   ]
  },
  {
   "cell_type": "markdown",
   "metadata": {},
   "source": [
    "1. Importing packages and data\n",
    "2. Data Cleaning Phase\n",
    "- Size  \n",
    "- Last Updated  \n",
    "- Installs  \n",
    "- Current_ver and Android_ver  \n",
    "- Rating, Reviews and Price To Numeric  \n",
    "- Type  "
   ]
  },
  {
   "cell_type": "markdown",
   "metadata": {},
   "source": [
    "### 1. Importing Packages and Data"
   ]
  },
  {
   "cell_type": "code",
   "execution_count": 47,
   "metadata": {},
   "outputs": [],
   "source": [
    "import pandas as pd\n",
    "import numpy as np\n",
    "import seaborn as sns\n",
    "import matplotlib.pyplot as plt\n",
    "%matplotlib inline\n",
    "from scipy import stats\n",
    "import warnings\n",
    "warnings.filterwarnings('ignore')"
   ]
  },
  {
   "cell_type": "code",
   "execution_count": 48,
   "metadata": {},
   "outputs": [
    {
     "data": {
      "text/html": [
       "<div>\n",
       "<style scoped>\n",
       "    .dataframe tbody tr th:only-of-type {\n",
       "        vertical-align: middle;\n",
       "    }\n",
       "\n",
       "    .dataframe tbody tr th {\n",
       "        vertical-align: top;\n",
       "    }\n",
       "\n",
       "    .dataframe thead th {\n",
       "        text-align: right;\n",
       "    }\n",
       "</style>\n",
       "<table border=\"1\" class=\"dataframe\">\n",
       "  <thead>\n",
       "    <tr style=\"text-align: right;\">\n",
       "      <th></th>\n",
       "      <th>App</th>\n",
       "      <th>Category</th>\n",
       "      <th>Rating</th>\n",
       "      <th>Reviews</th>\n",
       "      <th>Size</th>\n",
       "      <th>Installs</th>\n",
       "      <th>Type</th>\n",
       "      <th>Price</th>\n",
       "      <th>Content Rating</th>\n",
       "      <th>Genres</th>\n",
       "      <th>Last Updated</th>\n",
       "      <th>Current Ver</th>\n",
       "      <th>Android Ver</th>\n",
       "    </tr>\n",
       "  </thead>\n",
       "  <tbody>\n",
       "    <tr>\n",
       "      <th>0</th>\n",
       "      <td>Photo Editor &amp; Candy Camera &amp; Grid &amp; ScrapBook</td>\n",
       "      <td>ART_AND_DESIGN</td>\n",
       "      <td>4.1</td>\n",
       "      <td>159</td>\n",
       "      <td>19M</td>\n",
       "      <td>10,000+</td>\n",
       "      <td>Free</td>\n",
       "      <td>0</td>\n",
       "      <td>Everyone</td>\n",
       "      <td>Art &amp; Design</td>\n",
       "      <td>January 7, 2018</td>\n",
       "      <td>1.0.0</td>\n",
       "      <td>4.0.3 and up</td>\n",
       "    </tr>\n",
       "    <tr>\n",
       "      <th>1</th>\n",
       "      <td>Coloring book moana</td>\n",
       "      <td>ART_AND_DESIGN</td>\n",
       "      <td>3.9</td>\n",
       "      <td>967</td>\n",
       "      <td>14M</td>\n",
       "      <td>500,000+</td>\n",
       "      <td>Free</td>\n",
       "      <td>0</td>\n",
       "      <td>Everyone</td>\n",
       "      <td>Art &amp; Design;Pretend Play</td>\n",
       "      <td>January 15, 2018</td>\n",
       "      <td>2.0.0</td>\n",
       "      <td>4.0.3 and up</td>\n",
       "    </tr>\n",
       "    <tr>\n",
       "      <th>2</th>\n",
       "      <td>U Launcher Lite – FREE Live Cool Themes, Hide ...</td>\n",
       "      <td>ART_AND_DESIGN</td>\n",
       "      <td>4.7</td>\n",
       "      <td>87510</td>\n",
       "      <td>8.7M</td>\n",
       "      <td>5,000,000+</td>\n",
       "      <td>Free</td>\n",
       "      <td>0</td>\n",
       "      <td>Everyone</td>\n",
       "      <td>Art &amp; Design</td>\n",
       "      <td>August 1, 2018</td>\n",
       "      <td>1.2.4</td>\n",
       "      <td>4.0.3 and up</td>\n",
       "    </tr>\n",
       "  </tbody>\n",
       "</table>\n",
       "</div>"
      ],
      "text/plain": [
       "                                                 App        Category Rating  \\\n",
       "0     Photo Editor & Candy Camera & Grid & ScrapBook  ART_AND_DESIGN    4.1   \n",
       "1                                Coloring book moana  ART_AND_DESIGN    3.9   \n",
       "2  U Launcher Lite – FREE Live Cool Themes, Hide ...  ART_AND_DESIGN    4.7   \n",
       "\n",
       "  Reviews  Size    Installs  Type Price Content Rating  \\\n",
       "0     159   19M     10,000+  Free     0       Everyone   \n",
       "1     967   14M    500,000+  Free     0       Everyone   \n",
       "2   87510  8.7M  5,000,000+  Free     0       Everyone   \n",
       "\n",
       "                      Genres      Last Updated Current Ver   Android Ver  \n",
       "0               Art & Design   January 7, 2018       1.0.0  4.0.3 and up  \n",
       "1  Art & Design;Pretend Play  January 15, 2018       2.0.0  4.0.3 and up  \n",
       "2               Art & Design    August 1, 2018       1.2.4  4.0.3 and up  "
      ]
     },
     "execution_count": 48,
     "metadata": {},
     "output_type": "execute_result"
    }
   ],
   "source": [
    "df = pd.read_csv('googleplaystore.csv', dtype='str')\n",
    "df.head(3)"
   ]
  },
  {
   "cell_type": "code",
   "execution_count": 49,
   "metadata": {},
   "outputs": [
    {
     "name": "stdout",
     "output_type": "stream",
     "text": [
      "<class 'pandas.core.frame.DataFrame'>\n",
      "RangeIndex: 10841 entries, 0 to 10840\n",
      "Data columns (total 13 columns):\n",
      " #   Column          Non-Null Count  Dtype \n",
      "---  ------          --------------  ----- \n",
      " 0   App             10841 non-null  object\n",
      " 1   Category        10841 non-null  object\n",
      " 2   Rating          9367 non-null   object\n",
      " 3   Reviews         10841 non-null  object\n",
      " 4   Size            10841 non-null  object\n",
      " 5   Installs        10841 non-null  object\n",
      " 6   Type            10840 non-null  object\n",
      " 7   Price           10841 non-null  object\n",
      " 8   Content Rating  10840 non-null  object\n",
      " 9   Genres          10841 non-null  object\n",
      " 10  Last Updated    10841 non-null  object\n",
      " 11  Current Ver     10833 non-null  object\n",
      " 12  Android Ver     10838 non-null  object\n",
      "dtypes: object(13)\n",
      "memory usage: 1.1+ MB\n"
     ]
    }
   ],
   "source": [
    "df.info()"
   ]
  },
  {
   "cell_type": "code",
   "execution_count": 50,
   "metadata": {},
   "outputs": [
    {
     "data": {
      "text/plain": [
       "(10841, 13)"
      ]
     },
     "execution_count": 50,
     "metadata": {},
     "output_type": "execute_result"
    }
   ],
   "source": [
    "df.shape"
   ]
  },
  {
   "cell_type": "markdown",
   "metadata": {},
   "source": [
    "### 2. Data Cleaning Phase"
   ]
  },
  {
   "cell_type": "code",
   "execution_count": 51,
   "metadata": {},
   "outputs": [],
   "source": [
    "#Clean columns name\n",
    "df.columns = df.columns.str.strip().str.lower().str.replace(' ','_')\n"
   ]
  },
  {
   "cell_type": "code",
   "execution_count": 60,
   "metadata": {},
   "outputs": [],
   "source": [
    "#clean values\n",
    "def clean_vals(df):\n",
    "    for col in df.columns:\n",
    "        df[col] = df[col].str.strip().str.upper().str.replace('\\t|\\n', '', regex=True)\n",
    "\n",
    "clean_vals(df)"
   ]
  },
  {
   "cell_type": "code",
   "execution_count": 62,
   "metadata": {},
   "outputs": [
    {
     "data": {
      "text/html": [
       "<div>\n",
       "<style scoped>\n",
       "    .dataframe tbody tr th:only-of-type {\n",
       "        vertical-align: middle;\n",
       "    }\n",
       "\n",
       "    .dataframe tbody tr th {\n",
       "        vertical-align: top;\n",
       "    }\n",
       "\n",
       "    .dataframe thead th {\n",
       "        text-align: right;\n",
       "    }\n",
       "</style>\n",
       "<table border=\"1\" class=\"dataframe\">\n",
       "  <thead>\n",
       "    <tr style=\"text-align: right;\">\n",
       "      <th></th>\n",
       "      <th>app</th>\n",
       "      <th>category</th>\n",
       "      <th>rating</th>\n",
       "      <th>reviews</th>\n",
       "      <th>size</th>\n",
       "      <th>installs</th>\n",
       "      <th>type</th>\n",
       "      <th>price</th>\n",
       "      <th>content_rating</th>\n",
       "      <th>genres</th>\n",
       "      <th>last_updated</th>\n",
       "      <th>current_ver</th>\n",
       "      <th>android_ver</th>\n",
       "    </tr>\n",
       "  </thead>\n",
       "  <tbody>\n",
       "    <tr>\n",
       "      <th>0</th>\n",
       "      <td>PHOTO EDITOR &amp; CANDY CAMERA &amp; GRID &amp; SCRAPBOOK</td>\n",
       "      <td>ART_AND_DESIGN</td>\n",
       "      <td>4.1</td>\n",
       "      <td>159</td>\n",
       "      <td>19M</td>\n",
       "      <td>10,000+</td>\n",
       "      <td>FREE</td>\n",
       "      <td>0</td>\n",
       "      <td>EVERYONE</td>\n",
       "      <td>ART &amp; DESIGN</td>\n",
       "      <td>JANUARY 7, 2018</td>\n",
       "      <td>1.0.0</td>\n",
       "      <td>4.0.3 AND UP</td>\n",
       "    </tr>\n",
       "    <tr>\n",
       "      <th>1</th>\n",
       "      <td>COLORING BOOK MOANA</td>\n",
       "      <td>ART_AND_DESIGN</td>\n",
       "      <td>3.9</td>\n",
       "      <td>967</td>\n",
       "      <td>14M</td>\n",
       "      <td>500,000+</td>\n",
       "      <td>FREE</td>\n",
       "      <td>0</td>\n",
       "      <td>EVERYONE</td>\n",
       "      <td>ART &amp; DESIGN;PRETEND PLAY</td>\n",
       "      <td>JANUARY 15, 2018</td>\n",
       "      <td>2.0.0</td>\n",
       "      <td>4.0.3 AND UP</td>\n",
       "    </tr>\n",
       "    <tr>\n",
       "      <th>2</th>\n",
       "      <td>U LAUNCHER LITE – FREE LIVE COOL THEMES, HIDE ...</td>\n",
       "      <td>ART_AND_DESIGN</td>\n",
       "      <td>4.7</td>\n",
       "      <td>87510</td>\n",
       "      <td>8.7M</td>\n",
       "      <td>5,000,000+</td>\n",
       "      <td>FREE</td>\n",
       "      <td>0</td>\n",
       "      <td>EVERYONE</td>\n",
       "      <td>ART &amp; DESIGN</td>\n",
       "      <td>AUGUST 1, 2018</td>\n",
       "      <td>1.2.4</td>\n",
       "      <td>4.0.3 AND UP</td>\n",
       "    </tr>\n",
       "  </tbody>\n",
       "</table>\n",
       "</div>"
      ],
      "text/plain": [
       "                                                 app        category rating  \\\n",
       "0     PHOTO EDITOR & CANDY CAMERA & GRID & SCRAPBOOK  ART_AND_DESIGN    4.1   \n",
       "1                                COLORING BOOK MOANA  ART_AND_DESIGN    3.9   \n",
       "2  U LAUNCHER LITE – FREE LIVE COOL THEMES, HIDE ...  ART_AND_DESIGN    4.7   \n",
       "\n",
       "  reviews  size    installs  type price content_rating  \\\n",
       "0     159   19M     10,000+  FREE     0       EVERYONE   \n",
       "1     967   14M    500,000+  FREE     0       EVERYONE   \n",
       "2   87510  8.7M  5,000,000+  FREE     0       EVERYONE   \n",
       "\n",
       "                      genres      last_updated current_ver   android_ver  \n",
       "0               ART & DESIGN   JANUARY 7, 2018       1.0.0  4.0.3 AND UP  \n",
       "1  ART & DESIGN;PRETEND PLAY  JANUARY 15, 2018       2.0.0  4.0.3 AND UP  \n",
       "2               ART & DESIGN    AUGUST 1, 2018       1.2.4  4.0.3 AND UP  "
      ]
     },
     "execution_count": 62,
     "metadata": {},
     "output_type": "execute_result"
    }
   ],
   "source": [
    "#check\n",
    "df.head(3)"
   ]
  },
  {
   "cell_type": "markdown",
   "metadata": {},
   "source": [
    "### Size"
   ]
  },
  {
   "cell_type": "markdown",
   "metadata": {},
   "source": [
    "We need to see what letter there are in thhe size column so that we can normalize the data."
   ]
  },
  {
   "cell_type": "code",
   "execution_count": 63,
   "metadata": {},
   "outputs": [
    {
     "name": "stdout",
     "output_type": "stream",
     "text": [
      "['M' '.M' 'VARIES WITH DEVICE' 'K' '.K' ',+']\n"
     ]
    }
   ],
   "source": [
    "print(df['size'].str.replace('\\d+', '').unique())"
   ]
  },
  {
   "cell_type": "markdown",
   "metadata": {},
   "source": [
    "we can see that we have our size data in the form of megabytes, kilobytes and unknown."
   ]
  },
  {
   "cell_type": "code",
   "execution_count": 67,
   "metadata": {},
   "outputs": [
    {
     "data": {
      "text/html": [
       "<div>\n",
       "<style scoped>\n",
       "    .dataframe tbody tr th:only-of-type {\n",
       "        vertical-align: middle;\n",
       "    }\n",
       "\n",
       "    .dataframe tbody tr th {\n",
       "        vertical-align: top;\n",
       "    }\n",
       "\n",
       "    .dataframe thead th {\n",
       "        text-align: right;\n",
       "    }\n",
       "</style>\n",
       "<table border=\"1\" class=\"dataframe\">\n",
       "  <thead>\n",
       "    <tr style=\"text-align: right;\">\n",
       "      <th></th>\n",
       "      <th>app</th>\n",
       "      <th>category</th>\n",
       "      <th>rating</th>\n",
       "      <th>reviews</th>\n",
       "      <th>size</th>\n",
       "      <th>installs</th>\n",
       "      <th>type</th>\n",
       "      <th>price</th>\n",
       "      <th>content_rating</th>\n",
       "      <th>genres</th>\n",
       "      <th>last_updated</th>\n",
       "      <th>current_ver</th>\n",
       "      <th>android_ver</th>\n",
       "    </tr>\n",
       "  </thead>\n",
       "  <tbody>\n",
       "    <tr>\n",
       "      <th>0</th>\n",
       "      <td>PHOTO EDITOR &amp; CANDY CAMERA &amp; GRID &amp; SCRAPBOOK</td>\n",
       "      <td>ART_AND_DESIGN</td>\n",
       "      <td>4.1</td>\n",
       "      <td>159</td>\n",
       "      <td>19M</td>\n",
       "      <td>10,000+</td>\n",
       "      <td>FREE</td>\n",
       "      <td>0</td>\n",
       "      <td>EVERYONE</td>\n",
       "      <td>ART &amp; DESIGN</td>\n",
       "      <td>JANUARY 7, 2018</td>\n",
       "      <td>1.0.0</td>\n",
       "      <td>4.0.3 AND UP</td>\n",
       "    </tr>\n",
       "    <tr>\n",
       "      <th>1</th>\n",
       "      <td>COLORING BOOK MOANA</td>\n",
       "      <td>ART_AND_DESIGN</td>\n",
       "      <td>3.9</td>\n",
       "      <td>967</td>\n",
       "      <td>14M</td>\n",
       "      <td>500,000+</td>\n",
       "      <td>FREE</td>\n",
       "      <td>0</td>\n",
       "      <td>EVERYONE</td>\n",
       "      <td>ART &amp; DESIGN;PRETEND PLAY</td>\n",
       "      <td>JANUARY 15, 2018</td>\n",
       "      <td>2.0.0</td>\n",
       "      <td>4.0.3 AND UP</td>\n",
       "    </tr>\n",
       "    <tr>\n",
       "      <th>2</th>\n",
       "      <td>U LAUNCHER LITE – FREE LIVE COOL THEMES, HIDE ...</td>\n",
       "      <td>ART_AND_DESIGN</td>\n",
       "      <td>4.7</td>\n",
       "      <td>87510</td>\n",
       "      <td>8.7M</td>\n",
       "      <td>5,000,000+</td>\n",
       "      <td>FREE</td>\n",
       "      <td>0</td>\n",
       "      <td>EVERYONE</td>\n",
       "      <td>ART &amp; DESIGN</td>\n",
       "      <td>AUGUST 1, 2018</td>\n",
       "      <td>1.2.4</td>\n",
       "      <td>4.0.3 AND UP</td>\n",
       "    </tr>\n",
       "    <tr>\n",
       "      <th>3</th>\n",
       "      <td>SKETCH - DRAW &amp; PAINT</td>\n",
       "      <td>ART_AND_DESIGN</td>\n",
       "      <td>4.5</td>\n",
       "      <td>215644</td>\n",
       "      <td>25M</td>\n",
       "      <td>50,000,000+</td>\n",
       "      <td>FREE</td>\n",
       "      <td>0</td>\n",
       "      <td>TEEN</td>\n",
       "      <td>ART &amp; DESIGN</td>\n",
       "      <td>JUNE 8, 2018</td>\n",
       "      <td>VARIES WITH DEVICE</td>\n",
       "      <td>4.2 AND UP</td>\n",
       "    </tr>\n",
       "    <tr>\n",
       "      <th>4</th>\n",
       "      <td>PIXEL DRAW - NUMBER ART COLORING BOOK</td>\n",
       "      <td>ART_AND_DESIGN</td>\n",
       "      <td>4.3</td>\n",
       "      <td>967</td>\n",
       "      <td>2.8M</td>\n",
       "      <td>100,000+</td>\n",
       "      <td>FREE</td>\n",
       "      <td>0</td>\n",
       "      <td>EVERYONE</td>\n",
       "      <td>ART &amp; DESIGN;CREATIVITY</td>\n",
       "      <td>JUNE 20, 2018</td>\n",
       "      <td>1.1</td>\n",
       "      <td>4.4 AND UP</td>\n",
       "    </tr>\n",
       "  </tbody>\n",
       "</table>\n",
       "</div>"
      ],
      "text/plain": [
       "                                                 app        category rating  \\\n",
       "0     PHOTO EDITOR & CANDY CAMERA & GRID & SCRAPBOOK  ART_AND_DESIGN    4.1   \n",
       "1                                COLORING BOOK MOANA  ART_AND_DESIGN    3.9   \n",
       "2  U LAUNCHER LITE – FREE LIVE COOL THEMES, HIDE ...  ART_AND_DESIGN    4.7   \n",
       "3                              SKETCH - DRAW & PAINT  ART_AND_DESIGN    4.5   \n",
       "4              PIXEL DRAW - NUMBER ART COLORING BOOK  ART_AND_DESIGN    4.3   \n",
       "\n",
       "  reviews  size     installs  type price content_rating  \\\n",
       "0     159   19M      10,000+  FREE     0       EVERYONE   \n",
       "1     967   14M     500,000+  FREE     0       EVERYONE   \n",
       "2   87510  8.7M   5,000,000+  FREE     0       EVERYONE   \n",
       "3  215644   25M  50,000,000+  FREE     0           TEEN   \n",
       "4     967  2.8M     100,000+  FREE     0       EVERYONE   \n",
       "\n",
       "                      genres      last_updated         current_ver  \\\n",
       "0               ART & DESIGN   JANUARY 7, 2018               1.0.0   \n",
       "1  ART & DESIGN;PRETEND PLAY  JANUARY 15, 2018               2.0.0   \n",
       "2               ART & DESIGN    AUGUST 1, 2018               1.2.4   \n",
       "3               ART & DESIGN      JUNE 8, 2018  VARIES WITH DEVICE   \n",
       "4    ART & DESIGN;CREATIVITY     JUNE 20, 2018                 1.1   \n",
       "\n",
       "    android_ver  \n",
       "0  4.0.3 AND UP  \n",
       "1  4.0.3 AND UP  \n",
       "2  4.0.3 AND UP  \n",
       "3    4.2 AND UP  \n",
       "4    4.4 AND UP  "
      ]
     },
     "execution_count": 67,
     "metadata": {},
     "output_type": "execute_result"
    }
   ],
   "source": [
    "df.loc[df['size'].str.contains('M')].head()"
   ]
  },
  {
   "cell_type": "code",
   "execution_count": 68,
   "metadata": {},
   "outputs": [],
   "source": [
    "#Convert MB to KB\n",
    "df.loc[df['size'].str.contains('M'), 'size'] = df.loc[df['size'].str.contains('M'), 'size'].str.rstrip('M').astype(float) * 1024"
   ]
  },
  {
   "cell_type": "code",
   "execution_count": 81,
   "metadata": {},
   "outputs": [
    {
     "data": {
      "text/html": [
       "<div>\n",
       "<style scoped>\n",
       "    .dataframe tbody tr th:only-of-type {\n",
       "        vertical-align: middle;\n",
       "    }\n",
       "\n",
       "    .dataframe tbody tr th {\n",
       "        vertical-align: top;\n",
       "    }\n",
       "\n",
       "    .dataframe thead th {\n",
       "        text-align: right;\n",
       "    }\n",
       "</style>\n",
       "<table border=\"1\" class=\"dataframe\">\n",
       "  <thead>\n",
       "    <tr style=\"text-align: right;\">\n",
       "      <th></th>\n",
       "      <th>app</th>\n",
       "      <th>category</th>\n",
       "      <th>rating</th>\n",
       "      <th>reviews</th>\n",
       "      <th>size</th>\n",
       "      <th>installs</th>\n",
       "      <th>type</th>\n",
       "      <th>price</th>\n",
       "      <th>content_rating</th>\n",
       "      <th>genres</th>\n",
       "      <th>last_updated</th>\n",
       "      <th>current_ver</th>\n",
       "      <th>android_ver</th>\n",
       "    </tr>\n",
       "  </thead>\n",
       "  <tbody>\n",
       "    <tr>\n",
       "      <th>0</th>\n",
       "      <td>PHOTO EDITOR &amp; CANDY CAMERA &amp; GRID &amp; SCRAPBOOK</td>\n",
       "      <td>ART_AND_DESIGN</td>\n",
       "      <td>4.1</td>\n",
       "      <td>159</td>\n",
       "      <td>19456.0</td>\n",
       "      <td>10,000+</td>\n",
       "      <td>FREE</td>\n",
       "      <td>0</td>\n",
       "      <td>EVERYONE</td>\n",
       "      <td>ART &amp; DESIGN</td>\n",
       "      <td>JANUARY 7, 2018</td>\n",
       "      <td>1.0.0</td>\n",
       "      <td>4.0.3 AND UP</td>\n",
       "    </tr>\n",
       "    <tr>\n",
       "      <th>1</th>\n",
       "      <td>COLORING BOOK MOANA</td>\n",
       "      <td>ART_AND_DESIGN</td>\n",
       "      <td>3.9</td>\n",
       "      <td>967</td>\n",
       "      <td>14336.0</td>\n",
       "      <td>500,000+</td>\n",
       "      <td>FREE</td>\n",
       "      <td>0</td>\n",
       "      <td>EVERYONE</td>\n",
       "      <td>ART &amp; DESIGN;PRETEND PLAY</td>\n",
       "      <td>JANUARY 15, 2018</td>\n",
       "      <td>2.0.0</td>\n",
       "      <td>4.0.3 AND UP</td>\n",
       "    </tr>\n",
       "    <tr>\n",
       "      <th>2</th>\n",
       "      <td>U LAUNCHER LITE – FREE LIVE COOL THEMES, HIDE ...</td>\n",
       "      <td>ART_AND_DESIGN</td>\n",
       "      <td>4.7</td>\n",
       "      <td>87510</td>\n",
       "      <td>8908.8</td>\n",
       "      <td>5,000,000+</td>\n",
       "      <td>FREE</td>\n",
       "      <td>0</td>\n",
       "      <td>EVERYONE</td>\n",
       "      <td>ART &amp; DESIGN</td>\n",
       "      <td>AUGUST 1, 2018</td>\n",
       "      <td>1.2.4</td>\n",
       "      <td>4.0.3 AND UP</td>\n",
       "    </tr>\n",
       "  </tbody>\n",
       "</table>\n",
       "</div>"
      ],
      "text/plain": [
       "                                                 app        category rating  \\\n",
       "0     PHOTO EDITOR & CANDY CAMERA & GRID & SCRAPBOOK  ART_AND_DESIGN    4.1   \n",
       "1                                COLORING BOOK MOANA  ART_AND_DESIGN    3.9   \n",
       "2  U LAUNCHER LITE – FREE LIVE COOL THEMES, HIDE ...  ART_AND_DESIGN    4.7   \n",
       "\n",
       "  reviews     size    installs  type price content_rating  \\\n",
       "0     159  19456.0     10,000+  FREE     0       EVERYONE   \n",
       "1     967  14336.0    500,000+  FREE     0       EVERYONE   \n",
       "2   87510   8908.8  5,000,000+  FREE     0       EVERYONE   \n",
       "\n",
       "                      genres      last_updated current_ver   android_ver  \n",
       "0               ART & DESIGN   JANUARY 7, 2018       1.0.0  4.0.3 AND UP  \n",
       "1  ART & DESIGN;PRETEND PLAY  JANUARY 15, 2018       2.0.0  4.0.3 AND UP  \n",
       "2               ART & DESIGN    AUGUST 1, 2018       1.2.4  4.0.3 AND UP  "
      ]
     },
     "execution_count": 81,
     "metadata": {},
     "output_type": "execute_result"
    }
   ],
   "source": [
    "df.head(3)"
   ]
  },
  {
   "cell_type": "code",
   "execution_count": 79,
   "metadata": {},
   "outputs": [
    {
     "data": {
      "text/plain": [
       "Series([], Name: size, dtype: object)"
      ]
     },
     "execution_count": 79,
     "metadata": {},
     "output_type": "execute_result"
    }
   ],
   "source": [
    "df.loc[df['size'].astype(str).str.contains('K'), 'size'] = df.loc[df['size'].astype(str).str.contains('K'), 'size'].str.replace('K', '')\n",
    "#There are no more values contains 'K'\n",
    "df.loc[df['size'].astype(str).str.contains('K'), 'size']"
   ]
  },
  {
   "cell_type": "code",
   "execution_count": 82,
   "metadata": {},
   "outputs": [],
   "source": [
    "#Adding clarify size column\n",
    "df.rename(columns = {'size': 'size(kb)'}, inplace=True)"
   ]
  },
  {
   "cell_type": "code",
   "execution_count": 84,
   "metadata": {},
   "outputs": [
    {
     "data": {
      "text/plain": [
       "Index(['app', 'category', 'rating', 'reviews', 'size(kb)', 'installs', 'type',\n",
       "       'price', 'content_rating', 'genres', 'last_updated', 'current_ver',\n",
       "       'android_ver'],\n",
       "      dtype='object')"
      ]
     },
     "execution_count": 84,
     "metadata": {},
     "output_type": "execute_result"
    }
   ],
   "source": [
    "#check\n",
    "df.columns"
   ]
  },
  {
   "cell_type": "markdown",
   "metadata": {},
   "source": [
    "We know that 'varies with device means unkown or NaN. So let replace those values."
   ]
  },
  {
   "cell_type": "code",
   "execution_count": 85,
   "metadata": {},
   "outputs": [],
   "source": [
    "df['size(kb)'].replace('VARIES WITH DEVICE', np.nan, inplace=True)"
   ]
  },
  {
   "cell_type": "code",
   "execution_count": 89,
   "metadata": {},
   "outputs": [
    {
     "data": {
      "text/plain": [
       "1695"
      ]
     },
     "execution_count": 89,
     "metadata": {},
     "output_type": "execute_result"
    }
   ],
   "source": [
    "df['size(kb)'].isnull().sum()"
   ]
  },
  {
   "cell_type": "markdown",
   "metadata": {},
   "source": [
    "There are 1695 rows that have NaN values"
   ]
  },
  {
   "cell_type": "code",
   "execution_count": 91,
   "metadata": {},
   "outputs": [],
   "source": [
    "#Remove '+' in size(kb) column\n",
    "df['size(kb)'] = df['size(kb)'].astype(str).str.replace('+', '', regex=False)"
   ]
  },
  {
   "cell_type": "code",
   "execution_count": 95,
   "metadata": {},
   "outputs": [],
   "source": [
    "#removing commas\n",
    "df['size(kb)'] = df['size(kb)'].str.replace(',', '')"
   ]
  },
  {
   "cell_type": "code",
   "execution_count": 96,
   "metadata": {},
   "outputs": [],
   "source": [
    "#Convert size columns to numeric\n",
    "df['size(kb)'] = pd.to_numeric(df['size(kb)'], errors='coerce')"
   ]
  },
  {
   "cell_type": "markdown",
   "metadata": {},
   "source": [
    "__NaN values in size column__  \n",
    "To deal with these missing values, we can fill them the mean value, groupby category."
   ]
  },
  {
   "cell_type": "code",
   "execution_count": 97,
   "metadata": {},
   "outputs": [],
   "source": [
    "df['size(kb)'] = df['size(kb)'].astype(float).fillna(df.groupby('category')['size(kb)'].transform('mean'))"
   ]
  },
  {
   "cell_type": "code",
   "execution_count": 98,
   "metadata": {},
   "outputs": [
    {
     "data": {
      "text/plain": [
       "app                  0\n",
       "category             0\n",
       "rating            1474\n",
       "reviews              0\n",
       "size(kb)             0\n",
       "installs             0\n",
       "type                 1\n",
       "price                0\n",
       "content_rating       1\n",
       "genres               0\n",
       "last_updated         0\n",
       "current_ver          8\n",
       "android_ver          3\n",
       "dtype: int64"
      ]
     },
     "execution_count": 98,
     "metadata": {},
     "output_type": "execute_result"
    }
   ],
   "source": [
    "#check\n",
    "df.isnull().sum()"
   ]
  },
  {
   "cell_type": "markdown",
   "metadata": {},
   "source": [
    "### Last Updated"
   ]
  },
  {
   "cell_type": "markdown",
   "metadata": {},
   "source": [
    "For this  analysis, i only want the year so let remove everything before the comma in the last_updated."
   ]
  },
  {
   "cell_type": "code",
   "execution_count": 100,
   "metadata": {},
   "outputs": [
    {
     "data": {
      "text/plain": [
       "array(['JANUARY 7, 2018', 'JANUARY 15, 2018', 'AUGUST 1, 2018', ...,\n",
       "       'JANUARY 20, 2014', 'FEBRUARY 16, 2014', 'MARCH 23, 2014'],\n",
       "      dtype=object)"
      ]
     },
     "execution_count": 100,
     "metadata": {},
     "output_type": "execute_result"
    }
   ],
   "source": [
    "df['last_updated'].unique()"
   ]
  },
  {
   "cell_type": "markdown",
   "metadata": {},
   "source": [
    "Remove this rows from the dataframe"
   ]
  },
  {
   "cell_type": "code",
   "execution_count": 108,
   "metadata": {},
   "outputs": [],
   "source": [
    "cond= df.loc[df['last_updated'] == '1.0.19'].index\n",
    "df.drop(cond, inplace=True)"
   ]
  },
  {
   "cell_type": "code",
   "execution_count": 109,
   "metadata": {},
   "outputs": [],
   "source": [
    "df['last_updated'] = pd.to_datetime(df['last_updated']).dt.year"
   ]
  },
  {
   "cell_type": "code",
   "execution_count": 110,
   "metadata": {},
   "outputs": [
    {
     "data": {
      "text/plain": [
       "0        2018\n",
       "1        2018\n",
       "2        2018\n",
       "3        2018\n",
       "4        2018\n",
       "         ... \n",
       "10836    2017\n",
       "10837    2018\n",
       "10838    2017\n",
       "10839    2015\n",
       "10840    2018\n",
       "Name: last_updated, Length: 10840, dtype: int64"
      ]
     },
     "execution_count": 110,
     "metadata": {},
     "output_type": "execute_result"
    }
   ],
   "source": [
    "#check\n",
    "df['last_updated']"
   ]
  },
  {
   "cell_type": "markdown",
   "metadata": {},
   "source": [
    "### Installs"
   ]
  },
  {
   "cell_type": "markdown",
   "metadata": {},
   "source": [
    "Remove non numeric digits and convert the datatype to numeric."
   ]
  },
  {
   "cell_type": "code",
   "execution_count": 111,
   "metadata": {},
   "outputs": [
    {
     "data": {
      "text/plain": [
       "array(['10,000+', '500,000+', '5,000,000+', '50,000,000+', '100,000+',\n",
       "       '50,000+', '1,000,000+', '10,000,000+', '5,000+', '100,000,000+',\n",
       "       '1,000,000,000+', '1,000+', '500,000,000+', '50+', '100+', '500+',\n",
       "       '10+', '1+', '5+', '0+', '0'], dtype=object)"
      ]
     },
     "execution_count": 111,
     "metadata": {},
     "output_type": "execute_result"
    }
   ],
   "source": [
    "df['installs'].unique()"
   ]
  },
  {
   "cell_type": "code",
   "execution_count": 112,
   "metadata": {},
   "outputs": [],
   "source": [
    "def remove_plus(df, col):\n",
    "    df[col] = df[col].astype(str).str.replace('+', '', regex=False)\n",
    "remove_plus(df, 'installs')"
   ]
  },
  {
   "cell_type": "code",
   "execution_count": 113,
   "metadata": {},
   "outputs": [
    {
     "data": {
      "text/html": [
       "<div>\n",
       "<style scoped>\n",
       "    .dataframe tbody tr th:only-of-type {\n",
       "        vertical-align: middle;\n",
       "    }\n",
       "\n",
       "    .dataframe tbody tr th {\n",
       "        vertical-align: top;\n",
       "    }\n",
       "\n",
       "    .dataframe thead th {\n",
       "        text-align: right;\n",
       "    }\n",
       "</style>\n",
       "<table border=\"1\" class=\"dataframe\">\n",
       "  <thead>\n",
       "    <tr style=\"text-align: right;\">\n",
       "      <th></th>\n",
       "      <th>app</th>\n",
       "      <th>category</th>\n",
       "      <th>rating</th>\n",
       "      <th>reviews</th>\n",
       "      <th>size(kb)</th>\n",
       "      <th>installs</th>\n",
       "      <th>type</th>\n",
       "      <th>price</th>\n",
       "      <th>content_rating</th>\n",
       "      <th>genres</th>\n",
       "      <th>last_updated</th>\n",
       "      <th>current_ver</th>\n",
       "      <th>android_ver</th>\n",
       "    </tr>\n",
       "  </thead>\n",
       "  <tbody>\n",
       "    <tr>\n",
       "      <th>0</th>\n",
       "      <td>PHOTO EDITOR &amp; CANDY CAMERA &amp; GRID &amp; SCRAPBOOK</td>\n",
       "      <td>ART_AND_DESIGN</td>\n",
       "      <td>4.1</td>\n",
       "      <td>159</td>\n",
       "      <td>19456.0</td>\n",
       "      <td>10,000</td>\n",
       "      <td>FREE</td>\n",
       "      <td>0</td>\n",
       "      <td>EVERYONE</td>\n",
       "      <td>ART &amp; DESIGN</td>\n",
       "      <td>2018</td>\n",
       "      <td>1.0.0</td>\n",
       "      <td>4.0.3 AND UP</td>\n",
       "    </tr>\n",
       "    <tr>\n",
       "      <th>1</th>\n",
       "      <td>COLORING BOOK MOANA</td>\n",
       "      <td>ART_AND_DESIGN</td>\n",
       "      <td>3.9</td>\n",
       "      <td>967</td>\n",
       "      <td>14336.0</td>\n",
       "      <td>500,000</td>\n",
       "      <td>FREE</td>\n",
       "      <td>0</td>\n",
       "      <td>EVERYONE</td>\n",
       "      <td>ART &amp; DESIGN;PRETEND PLAY</td>\n",
       "      <td>2018</td>\n",
       "      <td>2.0.0</td>\n",
       "      <td>4.0.3 AND UP</td>\n",
       "    </tr>\n",
       "    <tr>\n",
       "      <th>2</th>\n",
       "      <td>U LAUNCHER LITE – FREE LIVE COOL THEMES, HIDE ...</td>\n",
       "      <td>ART_AND_DESIGN</td>\n",
       "      <td>4.7</td>\n",
       "      <td>87510</td>\n",
       "      <td>8908.8</td>\n",
       "      <td>5,000,000</td>\n",
       "      <td>FREE</td>\n",
       "      <td>0</td>\n",
       "      <td>EVERYONE</td>\n",
       "      <td>ART &amp; DESIGN</td>\n",
       "      <td>2018</td>\n",
       "      <td>1.2.4</td>\n",
       "      <td>4.0.3 AND UP</td>\n",
       "    </tr>\n",
       "  </tbody>\n",
       "</table>\n",
       "</div>"
      ],
      "text/plain": [
       "                                                 app        category rating  \\\n",
       "0     PHOTO EDITOR & CANDY CAMERA & GRID & SCRAPBOOK  ART_AND_DESIGN    4.1   \n",
       "1                                COLORING BOOK MOANA  ART_AND_DESIGN    3.9   \n",
       "2  U LAUNCHER LITE – FREE LIVE COOL THEMES, HIDE ...  ART_AND_DESIGN    4.7   \n",
       "\n",
       "  reviews  size(kb)   installs  type price content_rating  \\\n",
       "0     159   19456.0     10,000  FREE     0       EVERYONE   \n",
       "1     967   14336.0    500,000  FREE     0       EVERYONE   \n",
       "2   87510    8908.8  5,000,000  FREE     0       EVERYONE   \n",
       "\n",
       "                      genres  last_updated current_ver   android_ver  \n",
       "0               ART & DESIGN          2018       1.0.0  4.0.3 AND UP  \n",
       "1  ART & DESIGN;PRETEND PLAY          2018       2.0.0  4.0.3 AND UP  \n",
       "2               ART & DESIGN          2018       1.2.4  4.0.3 AND UP  "
      ]
     },
     "execution_count": 113,
     "metadata": {},
     "output_type": "execute_result"
    }
   ],
   "source": [
    "df.head(3)"
   ]
  },
  {
   "cell_type": "code",
   "execution_count": 115,
   "metadata": {},
   "outputs": [],
   "source": [
    "def remove_commas(df, col):\n",
    "    df[col] = df[col].str.replace(',', '')\n",
    "remove_commas(df, 'installs')"
   ]
  },
  {
   "cell_type": "code",
   "execution_count": 116,
   "metadata": {},
   "outputs": [],
   "source": [
    "df['installs'] = pd.to_numeric(df['installs'])"
   ]
  },
  {
   "cell_type": "code",
   "execution_count": 117,
   "metadata": {},
   "outputs": [
    {
     "name": "stdout",
     "output_type": "stream",
     "text": [
      "<class 'pandas.core.frame.DataFrame'>\n",
      "Int64Index: 10840 entries, 0 to 10840\n",
      "Data columns (total 13 columns):\n",
      " #   Column          Non-Null Count  Dtype  \n",
      "---  ------          --------------  -----  \n",
      " 0   app             10840 non-null  object \n",
      " 1   category        10840 non-null  object \n",
      " 2   rating          9366 non-null   object \n",
      " 3   reviews         10840 non-null  object \n",
      " 4   size(kb)        10840 non-null  float64\n",
      " 5   installs        10840 non-null  int64  \n",
      " 6   type            10839 non-null  object \n",
      " 7   price           10840 non-null  object \n",
      " 8   content_rating  10840 non-null  object \n",
      " 9   genres          10840 non-null  object \n",
      " 10  last_updated    10840 non-null  int64  \n",
      " 11  current_ver     10832 non-null  object \n",
      " 12  android_ver     10838 non-null  object \n",
      "dtypes: float64(1), int64(2), object(10)\n",
      "memory usage: 1.2+ MB\n"
     ]
    }
   ],
   "source": [
    "df.info()"
   ]
  },
  {
   "cell_type": "markdown",
   "metadata": {},
   "source": [
    "### Curent_ver and Android_ver"
   ]
  },
  {
   "cell_type": "markdown",
   "metadata": {},
   "source": [
    "We don't need these columns for this analysis so we will remove those."
   ]
  },
  {
   "cell_type": "code",
   "execution_count": 119,
   "metadata": {},
   "outputs": [],
   "source": [
    "df = df.drop(['current_ver', 'android_ver'], axis=1)"
   ]
  },
  {
   "cell_type": "code",
   "execution_count": 120,
   "metadata": {},
   "outputs": [
    {
     "data": {
      "text/html": [
       "<div>\n",
       "<style scoped>\n",
       "    .dataframe tbody tr th:only-of-type {\n",
       "        vertical-align: middle;\n",
       "    }\n",
       "\n",
       "    .dataframe tbody tr th {\n",
       "        vertical-align: top;\n",
       "    }\n",
       "\n",
       "    .dataframe thead th {\n",
       "        text-align: right;\n",
       "    }\n",
       "</style>\n",
       "<table border=\"1\" class=\"dataframe\">\n",
       "  <thead>\n",
       "    <tr style=\"text-align: right;\">\n",
       "      <th></th>\n",
       "      <th>app</th>\n",
       "      <th>category</th>\n",
       "      <th>rating</th>\n",
       "      <th>reviews</th>\n",
       "      <th>size(kb)</th>\n",
       "      <th>installs</th>\n",
       "      <th>type</th>\n",
       "      <th>price</th>\n",
       "      <th>content_rating</th>\n",
       "      <th>genres</th>\n",
       "      <th>last_updated</th>\n",
       "    </tr>\n",
       "  </thead>\n",
       "  <tbody>\n",
       "    <tr>\n",
       "      <th>0</th>\n",
       "      <td>PHOTO EDITOR &amp; CANDY CAMERA &amp; GRID &amp; SCRAPBOOK</td>\n",
       "      <td>ART_AND_DESIGN</td>\n",
       "      <td>4.1</td>\n",
       "      <td>159</td>\n",
       "      <td>19456.0</td>\n",
       "      <td>10000</td>\n",
       "      <td>FREE</td>\n",
       "      <td>0</td>\n",
       "      <td>EVERYONE</td>\n",
       "      <td>ART &amp; DESIGN</td>\n",
       "      <td>2018</td>\n",
       "    </tr>\n",
       "    <tr>\n",
       "      <th>1</th>\n",
       "      <td>COLORING BOOK MOANA</td>\n",
       "      <td>ART_AND_DESIGN</td>\n",
       "      <td>3.9</td>\n",
       "      <td>967</td>\n",
       "      <td>14336.0</td>\n",
       "      <td>500000</td>\n",
       "      <td>FREE</td>\n",
       "      <td>0</td>\n",
       "      <td>EVERYONE</td>\n",
       "      <td>ART &amp; DESIGN;PRETEND PLAY</td>\n",
       "      <td>2018</td>\n",
       "    </tr>\n",
       "    <tr>\n",
       "      <th>2</th>\n",
       "      <td>U LAUNCHER LITE – FREE LIVE COOL THEMES, HIDE ...</td>\n",
       "      <td>ART_AND_DESIGN</td>\n",
       "      <td>4.7</td>\n",
       "      <td>87510</td>\n",
       "      <td>8908.8</td>\n",
       "      <td>5000000</td>\n",
       "      <td>FREE</td>\n",
       "      <td>0</td>\n",
       "      <td>EVERYONE</td>\n",
       "      <td>ART &amp; DESIGN</td>\n",
       "      <td>2018</td>\n",
       "    </tr>\n",
       "    <tr>\n",
       "      <th>3</th>\n",
       "      <td>SKETCH - DRAW &amp; PAINT</td>\n",
       "      <td>ART_AND_DESIGN</td>\n",
       "      <td>4.5</td>\n",
       "      <td>215644</td>\n",
       "      <td>25600.0</td>\n",
       "      <td>50000000</td>\n",
       "      <td>FREE</td>\n",
       "      <td>0</td>\n",
       "      <td>TEEN</td>\n",
       "      <td>ART &amp; DESIGN</td>\n",
       "      <td>2018</td>\n",
       "    </tr>\n",
       "    <tr>\n",
       "      <th>4</th>\n",
       "      <td>PIXEL DRAW - NUMBER ART COLORING BOOK</td>\n",
       "      <td>ART_AND_DESIGN</td>\n",
       "      <td>4.3</td>\n",
       "      <td>967</td>\n",
       "      <td>2867.2</td>\n",
       "      <td>100000</td>\n",
       "      <td>FREE</td>\n",
       "      <td>0</td>\n",
       "      <td>EVERYONE</td>\n",
       "      <td>ART &amp; DESIGN;CREATIVITY</td>\n",
       "      <td>2018</td>\n",
       "    </tr>\n",
       "  </tbody>\n",
       "</table>\n",
       "</div>"
      ],
      "text/plain": [
       "                                                 app        category rating  \\\n",
       "0     PHOTO EDITOR & CANDY CAMERA & GRID & SCRAPBOOK  ART_AND_DESIGN    4.1   \n",
       "1                                COLORING BOOK MOANA  ART_AND_DESIGN    3.9   \n",
       "2  U LAUNCHER LITE – FREE LIVE COOL THEMES, HIDE ...  ART_AND_DESIGN    4.7   \n",
       "3                              SKETCH - DRAW & PAINT  ART_AND_DESIGN    4.5   \n",
       "4              PIXEL DRAW - NUMBER ART COLORING BOOK  ART_AND_DESIGN    4.3   \n",
       "\n",
       "  reviews  size(kb)  installs  type price content_rating  \\\n",
       "0     159   19456.0     10000  FREE     0       EVERYONE   \n",
       "1     967   14336.0    500000  FREE     0       EVERYONE   \n",
       "2   87510    8908.8   5000000  FREE     0       EVERYONE   \n",
       "3  215644   25600.0  50000000  FREE     0           TEEN   \n",
       "4     967    2867.2    100000  FREE     0       EVERYONE   \n",
       "\n",
       "                      genres  last_updated  \n",
       "0               ART & DESIGN          2018  \n",
       "1  ART & DESIGN;PRETEND PLAY          2018  \n",
       "2               ART & DESIGN          2018  \n",
       "3               ART & DESIGN          2018  \n",
       "4    ART & DESIGN;CREATIVITY          2018  "
      ]
     },
     "execution_count": 120,
     "metadata": {},
     "output_type": "execute_result"
    }
   ],
   "source": [
    "df.head()"
   ]
  },
  {
   "cell_type": "markdown",
   "metadata": {},
   "source": [
    "### Rating, Reviews and Price to Numeric"
   ]
  },
  {
   "cell_type": "markdown",
   "metadata": {},
   "source": [
    "Remove $ from price column"
   ]
  },
  {
   "cell_type": "code",
   "execution_count": 130,
   "metadata": {},
   "outputs": [],
   "source": [
    "df['price'] = df['price'].replace('$', '')"
   ]
  },
  {
   "cell_type": "markdown",
   "metadata": {},
   "source": [
    "Covert rating, price, reviews columns to numeric"
   ]
  },
  {
   "cell_type": "code",
   "execution_count": 131,
   "metadata": {},
   "outputs": [],
   "source": [
    "def to_numeric(df, col):\n",
    "    df[col] = pd.to_numeric(df[col])\n",
    "to_numeric(df, 'rating')\n",
    "to_numeric(df, 'price')\n",
    "to_numeric(df, 'reviews')"
   ]
  },
  {
   "cell_type": "markdown",
   "metadata": {},
   "source": [
    "Fill NaN values in price, rating columns by mean values of category"
   ]
  },
  {
   "cell_type": "code",
   "execution_count": 132,
   "metadata": {},
   "outputs": [],
   "source": [
    "df['price'] = df['price'].astype(float).fillna(df.groupby('category')['price'].transform('mean'))"
   ]
  },
  {
   "cell_type": "code",
   "execution_count": 133,
   "metadata": {},
   "outputs": [],
   "source": [
    "df['rating'] = df['rating'].astype(float).fillna(df.groupby('category')['rating'].transform('mean'))"
   ]
  },
  {
   "cell_type": "code",
   "execution_count": 134,
   "metadata": {},
   "outputs": [
    {
     "name": "stdout",
     "output_type": "stream",
     "text": [
      "<class 'pandas.core.frame.DataFrame'>\n",
      "Int64Index: 10840 entries, 0 to 10840\n",
      "Data columns (total 11 columns):\n",
      " #   Column          Non-Null Count  Dtype  \n",
      "---  ------          --------------  -----  \n",
      " 0   app             10840 non-null  object \n",
      " 1   category        10840 non-null  object \n",
      " 2   rating          10840 non-null  float64\n",
      " 3   reviews         10840 non-null  int64  \n",
      " 4   size(kb)        10840 non-null  float64\n",
      " 5   installs        10840 non-null  int64  \n",
      " 6   type            10839 non-null  object \n",
      " 7   price           10840 non-null  float64\n",
      " 8   content_rating  10840 non-null  object \n",
      " 9   genres          10840 non-null  object \n",
      " 10  last_updated    10840 non-null  int64  \n",
      "dtypes: float64(3), int64(3), object(5)\n",
      "memory usage: 1016.2+ KB\n"
     ]
    }
   ],
   "source": [
    "df.info()"
   ]
  },
  {
   "cell_type": "markdown",
   "metadata": {},
   "source": [
    "### Type"
   ]
  },
  {
   "cell_type": "markdown",
   "metadata": {},
   "source": [
    "There are one null value> It seems nonsensical so we can droup this row."
   ]
  },
  {
   "cell_type": "code",
   "execution_count": 137,
   "metadata": {},
   "outputs": [
    {
     "data": {
      "text/html": [
       "<div>\n",
       "<style scoped>\n",
       "    .dataframe tbody tr th:only-of-type {\n",
       "        vertical-align: middle;\n",
       "    }\n",
       "\n",
       "    .dataframe tbody tr th {\n",
       "        vertical-align: top;\n",
       "    }\n",
       "\n",
       "    .dataframe thead th {\n",
       "        text-align: right;\n",
       "    }\n",
       "</style>\n",
       "<table border=\"1\" class=\"dataframe\">\n",
       "  <thead>\n",
       "    <tr style=\"text-align: right;\">\n",
       "      <th></th>\n",
       "      <th>app</th>\n",
       "      <th>category</th>\n",
       "      <th>rating</th>\n",
       "      <th>reviews</th>\n",
       "      <th>size(kb)</th>\n",
       "      <th>installs</th>\n",
       "      <th>type</th>\n",
       "      <th>price</th>\n",
       "      <th>content_rating</th>\n",
       "      <th>genres</th>\n",
       "      <th>last_updated</th>\n",
       "    </tr>\n",
       "  </thead>\n",
       "  <tbody>\n",
       "    <tr>\n",
       "      <th>9148</th>\n",
       "      <td>COMMAND &amp; CONQUER: RIVALS</td>\n",
       "      <td>FAMILY</td>\n",
       "      <td>4.192272</td>\n",
       "      <td>0</td>\n",
       "      <td>28998.679803</td>\n",
       "      <td>0</td>\n",
       "      <td>NaN</td>\n",
       "      <td>0.0</td>\n",
       "      <td>EVERYONE 10+</td>\n",
       "      <td>STRATEGY</td>\n",
       "      <td>2018</td>\n",
       "    </tr>\n",
       "  </tbody>\n",
       "</table>\n",
       "</div>"
      ],
      "text/plain": [
       "                            app category    rating  reviews      size(kb)  \\\n",
       "9148  COMMAND & CONQUER: RIVALS   FAMILY  4.192272        0  28998.679803   \n",
       "\n",
       "      installs type  price content_rating    genres  last_updated  \n",
       "9148         0  NaN    0.0   EVERYONE 10+  STRATEGY          2018  "
      ]
     },
     "execution_count": 137,
     "metadata": {},
     "output_type": "execute_result"
    }
   ],
   "source": [
    "df.loc[df['type'].isnull()]"
   ]
  },
  {
   "cell_type": "code",
   "execution_count": 138,
   "metadata": {},
   "outputs": [],
   "source": [
    "df.dropna(subset=['type'], inplace=True)"
   ]
  },
  {
   "cell_type": "markdown",
   "metadata": {},
   "source": [
    "__Let's do final check of the data__"
   ]
  },
  {
   "cell_type": "code",
   "execution_count": 139,
   "metadata": {},
   "outputs": [
    {
     "name": "stdout",
     "output_type": "stream",
     "text": [
      "<class 'pandas.core.frame.DataFrame'>\n",
      "Int64Index: 10839 entries, 0 to 10840\n",
      "Data columns (total 11 columns):\n",
      " #   Column          Non-Null Count  Dtype  \n",
      "---  ------          --------------  -----  \n",
      " 0   app             10839 non-null  object \n",
      " 1   category        10839 non-null  object \n",
      " 2   rating          10839 non-null  float64\n",
      " 3   reviews         10839 non-null  int64  \n",
      " 4   size(kb)        10839 non-null  float64\n",
      " 5   installs        10839 non-null  int64  \n",
      " 6   type            10839 non-null  object \n",
      " 7   price           10839 non-null  float64\n",
      " 8   content_rating  10839 non-null  object \n",
      " 9   genres          10839 non-null  object \n",
      " 10  last_updated    10839 non-null  int64  \n",
      "dtypes: float64(3), int64(3), object(5)\n",
      "memory usage: 1016.2+ KB\n"
     ]
    }
   ],
   "source": [
    "df.info()"
   ]
  },
  {
   "cell_type": "code",
   "execution_count": 140,
   "metadata": {},
   "outputs": [
    {
     "data": {
      "text/html": [
       "<div>\n",
       "<style scoped>\n",
       "    .dataframe tbody tr th:only-of-type {\n",
       "        vertical-align: middle;\n",
       "    }\n",
       "\n",
       "    .dataframe tbody tr th {\n",
       "        vertical-align: top;\n",
       "    }\n",
       "\n",
       "    .dataframe thead th {\n",
       "        text-align: right;\n",
       "    }\n",
       "</style>\n",
       "<table border=\"1\" class=\"dataframe\">\n",
       "  <thead>\n",
       "    <tr style=\"text-align: right;\">\n",
       "      <th></th>\n",
       "      <th>app</th>\n",
       "      <th>category</th>\n",
       "      <th>rating</th>\n",
       "      <th>reviews</th>\n",
       "      <th>size(kb)</th>\n",
       "      <th>installs</th>\n",
       "      <th>type</th>\n",
       "      <th>price</th>\n",
       "      <th>content_rating</th>\n",
       "      <th>genres</th>\n",
       "      <th>last_updated</th>\n",
       "    </tr>\n",
       "  </thead>\n",
       "  <tbody>\n",
       "    <tr>\n",
       "      <th>4673</th>\n",
       "      <td>VMATE</td>\n",
       "      <td>VIDEO_PLAYERS</td>\n",
       "      <td>4.200000</td>\n",
       "      <td>192677</td>\n",
       "      <td>17408.0</td>\n",
       "      <td>50000000</td>\n",
       "      <td>FREE</td>\n",
       "      <td>0.0</td>\n",
       "      <td>TEEN</td>\n",
       "      <td>VIDEO PLAYERS &amp; EDITORS</td>\n",
       "      <td>2018</td>\n",
       "    </tr>\n",
       "    <tr>\n",
       "      <th>7278</th>\n",
       "      <td>AZULONES GETAFE CF FANS</td>\n",
       "      <td>SPORTS</td>\n",
       "      <td>4.223511</td>\n",
       "      <td>4</td>\n",
       "      <td>7987.2</td>\n",
       "      <td>100</td>\n",
       "      <td>FREE</td>\n",
       "      <td>0.0</td>\n",
       "      <td>TEEN</td>\n",
       "      <td>SPORTS</td>\n",
       "      <td>2017</td>\n",
       "    </tr>\n",
       "    <tr>\n",
       "      <th>550</th>\n",
       "      <td>CLOVER DATING APP</td>\n",
       "      <td>DATING</td>\n",
       "      <td>4.100000</td>\n",
       "      <td>11633</td>\n",
       "      <td>23552.0</td>\n",
       "      <td>500000</td>\n",
       "      <td>FREE</td>\n",
       "      <td>0.0</td>\n",
       "      <td>MATURE 17+</td>\n",
       "      <td>DATING</td>\n",
       "      <td>2018</td>\n",
       "    </tr>\n",
       "    <tr>\n",
       "      <th>1330</th>\n",
       "      <td>MEDITATE OM</td>\n",
       "      <td>HEALTH_AND_FITNESS</td>\n",
       "      <td>4.500000</td>\n",
       "      <td>19074</td>\n",
       "      <td>4300.8</td>\n",
       "      <td>1000000</td>\n",
       "      <td>FREE</td>\n",
       "      <td>0.0</td>\n",
       "      <td>EVERYONE</td>\n",
       "      <td>HEALTH &amp; FITNESS</td>\n",
       "      <td>2018</td>\n",
       "    </tr>\n",
       "    <tr>\n",
       "      <th>343</th>\n",
       "      <td>MY TELE2</td>\n",
       "      <td>COMMUNICATION</td>\n",
       "      <td>4.300000</td>\n",
       "      <td>158679</td>\n",
       "      <td>9011.2</td>\n",
       "      <td>5000000</td>\n",
       "      <td>FREE</td>\n",
       "      <td>0.0</td>\n",
       "      <td>EVERYONE</td>\n",
       "      <td>COMMUNICATION</td>\n",
       "      <td>2018</td>\n",
       "    </tr>\n",
       "  </tbody>\n",
       "</table>\n",
       "</div>"
      ],
      "text/plain": [
       "                          app            category    rating  reviews  \\\n",
       "4673                    VMATE       VIDEO_PLAYERS  4.200000   192677   \n",
       "7278  AZULONES GETAFE CF FANS              SPORTS  4.223511        4   \n",
       "550         CLOVER DATING APP              DATING  4.100000    11633   \n",
       "1330              MEDITATE OM  HEALTH_AND_FITNESS  4.500000    19074   \n",
       "343                  MY TELE2       COMMUNICATION  4.300000   158679   \n",
       "\n",
       "      size(kb)  installs  type  price content_rating                   genres  \\\n",
       "4673   17408.0  50000000  FREE    0.0           TEEN  VIDEO PLAYERS & EDITORS   \n",
       "7278    7987.2       100  FREE    0.0           TEEN                   SPORTS   \n",
       "550    23552.0    500000  FREE    0.0     MATURE 17+                   DATING   \n",
       "1330    4300.8   1000000  FREE    0.0       EVERYONE         HEALTH & FITNESS   \n",
       "343     9011.2   5000000  FREE    0.0       EVERYONE            COMMUNICATION   \n",
       "\n",
       "      last_updated  \n",
       "4673          2018  \n",
       "7278          2017  \n",
       "550           2018  \n",
       "1330          2018  \n",
       "343           2018  "
      ]
     },
     "execution_count": 140,
     "metadata": {},
     "output_type": "execute_result"
    }
   ],
   "source": [
    "df.sample(5)"
   ]
  },
  {
   "cell_type": "markdown",
   "metadata": {},
   "source": [
    "## 3. EDA Phase"
   ]
  },
  {
   "cell_type": "markdown",
   "metadata": {},
   "source": [
    "__How many of each category do we have?__"
   ]
  },
  {
   "cell_type": "code",
   "execution_count": 147,
   "metadata": {},
   "outputs": [
    {
     "data": {
      "image/png": "[encoded data removed]",
      "text/plain": [
       "<Figure size 1440x720 with 1 Axes>"
      ]
     },
     "metadata": {
      "needs_background": "light"
     },
     "output_type": "display_data"
    }
   ],
   "source": [
    "plt.figure(figsize=(20, 10))\n",
    "fig = sns.countplot(df['category'])\n",
    "plt.xticks(rotation=60)\n",
    "plt.show()"
   ]
  },
  {
   "cell_type": "markdown",
   "metadata": {},
   "source": [
    "__What the distributon of rating?__"
   ]
  },
  {
   "cell_type": "code",
   "execution_count": 150,
   "metadata": {},
   "outputs": [
    {
     "data": {
      "image/png": "[encoded data removed]",
      "text/plain": [
       "<Figure size 1440x720 with 1 Axes>"
      ]
     },
     "metadata": {
      "needs_background": "light"
     },
     "output_type": "display_data"
    }
   ],
   "source": [
    "plt.figure(figsize=(20, 10))\n",
    "g = sns.histplot(df['rating'])\n",
    "g.set_title('Histogram of Ratings', fontsize=20)\n",
    "g.set_xlabel('Rating', fontsize=15)\n",
    "g.set_ylabel('Count', fontsize=15)\n",
    "plt.show()"
   ]
  },
  {
   "cell_type": "code",
   "execution_count": null,
   "metadata": {},
   "outputs": [],
   "source": []
  }
 ],
 "metadata": {
  "kernelspec": {
   "display_name": "Python 3.9.12 ('base')",
   "language": "python",
   "name": "python3"
  },
  "language_info": {
   "codemirror_mode": {
    "name": "ipython",
    "version": 3
   },
   "file_extension": ".py",
   "mimetype": "text/x-python",
   "name": "python",
   "nbconvert_exporter": "python",
   "pygments_lexer": "ipython3",
   "version": "3.9.12"
  },
  "orig_nbformat": 4,
  "vscode": {
   "interpreter": {
    "hash": "0e0d5a91f37e5e94c46f0fcb877a7750a213205c99f3374c7ae9a15f2ce6e579"
   }
  }
 },
 "nbformat": 4,
 "nbformat_minor": 2
}
