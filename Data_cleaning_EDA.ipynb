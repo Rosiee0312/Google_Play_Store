{
 "cells": [
  {
   "cell_type": "markdown",
   "metadata": {},
   "source": [
    "# Google Play Store"
   ]
  },
  {
   "cell_type": "markdown",
   "metadata": {},
   "source": [
    "## Table of Contents"
   ]
  },
  {
   "cell_type": "markdown",
   "metadata": {},
   "source": [
    "1. Importing packages and data\n",
    "2. Data Cleaning Phase\n",
    "- Size  \n",
    "- Last Updated  \n",
    "- Installs  \n",
    "- Current_ver and Android_ver  \n",
    "- Rating, Reviews and Price To Numeric  \n",
    "- Type  "
   ]
  },
  {
   "cell_type": "markdown",
   "metadata": {},
   "source": [
    "### 1. Importing Packages and Data"
   ]
  },
  {
   "cell_type": "code",
   "execution_count": 5,
   "metadata": {},
   "outputs": [],
   "source": [
    "import pandas as pd\n",
    "import numpy as np\n",
    "import seaborn as sns\n",
    "import matplotlib.pyplot as plt\n",
    "%matplotlib inline\n",
    "from scipy import stats\n",
    "import warnings\n",
    "warnings.filterwarnings('ignore')"
   ]
  },
  {
   "cell_type": "code",
   "execution_count": 6,
   "metadata": {},
   "outputs": [
    {
     "data": {
      "text/html": [
       "<div>\n",
       "<style scoped>\n",
       "    .dataframe tbody tr th:only-of-type {\n",
       "        vertical-align: middle;\n",
       "    }\n",
       "\n",
       "    .dataframe tbody tr th {\n",
       "        vertical-align: top;\n",
       "    }\n",
       "\n",
       "    .dataframe thead th {\n",
       "        text-align: right;\n",
       "    }\n",
       "</style>\n",
       "<table border=\"1\" class=\"dataframe\">\n",
       "  <thead>\n",
       "    <tr style=\"text-align: right;\">\n",
       "      <th></th>\n",
       "      <th>App</th>\n",
       "      <th>Category</th>\n",
       "      <th>Rating</th>\n",
       "      <th>Reviews</th>\n",
       "      <th>Size</th>\n",
       "      <th>Installs</th>\n",
       "      <th>Type</th>\n",
       "      <th>Price</th>\n",
       "      <th>Content Rating</th>\n",
       "      <th>Genres</th>\n",
       "      <th>Last Updated</th>\n",
       "      <th>Current Ver</th>\n",
       "      <th>Android Ver</th>\n",
       "    </tr>\n",
       "  </thead>\n",
       "  <tbody>\n",
       "    <tr>\n",
       "      <th>0</th>\n",
       "      <td>Photo Editor &amp; Candy Camera &amp; Grid &amp; ScrapBook</td>\n",
       "      <td>ART_AND_DESIGN</td>\n",
       "      <td>4.1</td>\n",
       "      <td>159</td>\n",
       "      <td>19M</td>\n",
       "      <td>10,000+</td>\n",
       "      <td>Free</td>\n",
       "      <td>0</td>\n",
       "      <td>Everyone</td>\n",
       "      <td>Art &amp; Design</td>\n",
       "      <td>January 7, 2018</td>\n",
       "      <td>1.0.0</td>\n",
       "      <td>4.0.3 and up</td>\n",
       "    </tr>\n",
       "    <tr>\n",
       "      <th>1</th>\n",
       "      <td>Coloring book moana</td>\n",
       "      <td>ART_AND_DESIGN</td>\n",
       "      <td>3.9</td>\n",
       "      <td>967</td>\n",
       "      <td>14M</td>\n",
       "      <td>500,000+</td>\n",
       "      <td>Free</td>\n",
       "      <td>0</td>\n",
       "      <td>Everyone</td>\n",
       "      <td>Art &amp; Design;Pretend Play</td>\n",
       "      <td>January 15, 2018</td>\n",
       "      <td>2.0.0</td>\n",
       "      <td>4.0.3 and up</td>\n",
       "    </tr>\n",
       "    <tr>\n",
       "      <th>2</th>\n",
       "      <td>U Launcher Lite – FREE Live Cool Themes, Hide ...</td>\n",
       "      <td>ART_AND_DESIGN</td>\n",
       "      <td>4.7</td>\n",
       "      <td>87510</td>\n",
       "      <td>8.7M</td>\n",
       "      <td>5,000,000+</td>\n",
       "      <td>Free</td>\n",
       "      <td>0</td>\n",
       "      <td>Everyone</td>\n",
       "      <td>Art &amp; Design</td>\n",
       "      <td>August 1, 2018</td>\n",
       "      <td>1.2.4</td>\n",
       "      <td>4.0.3 and up</td>\n",
       "    </tr>\n",
       "  </tbody>\n",
       "</table>\n",
       "</div>"
      ],
      "text/plain": [
       "                                                 App        Category Rating  \\\n",
       "0     Photo Editor & Candy Camera & Grid & ScrapBook  ART_AND_DESIGN    4.1   \n",
       "1                                Coloring book moana  ART_AND_DESIGN    3.9   \n",
       "2  U Launcher Lite – FREE Live Cool Themes, Hide ...  ART_AND_DESIGN    4.7   \n",
       "\n",
       "  Reviews  Size    Installs  Type Price Content Rating  \\\n",
       "0     159   19M     10,000+  Free     0       Everyone   \n",
       "1     967   14M    500,000+  Free     0       Everyone   \n",
       "2   87510  8.7M  5,000,000+  Free     0       Everyone   \n",
       "\n",
       "                      Genres      Last Updated Current Ver   Android Ver  \n",
       "0               Art & Design   January 7, 2018       1.0.0  4.0.3 and up  \n",
       "1  Art & Design;Pretend Play  January 15, 2018       2.0.0  4.0.3 and up  \n",
       "2               Art & Design    August 1, 2018       1.2.4  4.0.3 and up  "
      ]
     },
     "execution_count": 6,
     "metadata": {},
     "output_type": "execute_result"
    }
   ],
   "source": [
    "df = pd.read_csv('googleplaystore.csv', dtype='str')\n",
    "df.head(3)"
   ]
  },
  {
   "cell_type": "code",
   "execution_count": 7,
   "metadata": {},
   "outputs": [
    {
     "name": "stdout",
     "output_type": "stream",
     "text": [
      "<class 'pandas.core.frame.DataFrame'>\n",
      "RangeIndex: 10841 entries, 0 to 10840\n",
      "Data columns (total 13 columns):\n",
      " #   Column          Non-Null Count  Dtype \n",
      "---  ------          --------------  ----- \n",
      " 0   App             10841 non-null  object\n",
      " 1   Category        10841 non-null  object\n",
      " 2   Rating          9367 non-null   object\n",
      " 3   Reviews         10841 non-null  object\n",
      " 4   Size            10841 non-null  object\n",
      " 5   Installs        10841 non-null  object\n",
      " 6   Type            10840 non-null  object\n",
      " 7   Price           10841 non-null  object\n",
      " 8   Content Rating  10840 non-null  object\n",
      " 9   Genres          10841 non-null  object\n",
      " 10  Last Updated    10841 non-null  object\n",
      " 11  Current Ver     10833 non-null  object\n",
      " 12  Android Ver     10838 non-null  object\n",
      "dtypes: object(13)\n",
      "memory usage: 1.1+ MB\n"
     ]
    }
   ],
   "source": [
    "df.info()"
   ]
  },
  {
   "cell_type": "code",
   "execution_count": 8,
   "metadata": {},
   "outputs": [
    {
     "data": {
      "text/plain": [
       "(10841, 13)"
      ]
     },
     "execution_count": 8,
     "metadata": {},
     "output_type": "execute_result"
    }
   ],
   "source": [
    "df.shape"
   ]
  },
  {
   "cell_type": "markdown",
   "metadata": {},
   "source": [
    "### 2. Data Cleaning Phase"
   ]
  },
  {
   "cell_type": "code",
   "execution_count": 9,
   "metadata": {},
   "outputs": [],
   "source": [
    "#Clean columns name\n",
    "df.columns = df.columns.str.strip().str.lower().str.replace(' ','_')\n"
   ]
  },
  {
   "cell_type": "code",
   "execution_count": 10,
   "metadata": {},
   "outputs": [],
   "source": [
    "#clean values\n",
    "def clean_vals(df):\n",
    "    for col in df.columns:\n",
    "        df[col] = df[col].str.strip().str.upper().str.replace('\\t|\\n', '', regex=True)\n",
    "\n",
    "clean_vals(df)"
   ]
  },
  {
   "cell_type": "code",
   "execution_count": 11,
   "metadata": {},
   "outputs": [
    {
     "data": {
      "text/html": [
       "<div>\n",
       "<style scoped>\n",
       "    .dataframe tbody tr th:only-of-type {\n",
       "        vertical-align: middle;\n",
       "    }\n",
       "\n",
       "    .dataframe tbody tr th {\n",
       "        vertical-align: top;\n",
       "    }\n",
       "\n",
       "    .dataframe thead th {\n",
       "        text-align: right;\n",
       "    }\n",
       "</style>\n",
       "<table border=\"1\" class=\"dataframe\">\n",
       "  <thead>\n",
       "    <tr style=\"text-align: right;\">\n",
       "      <th></th>\n",
       "      <th>app</th>\n",
       "      <th>category</th>\n",
       "      <th>rating</th>\n",
       "      <th>reviews</th>\n",
       "      <th>size</th>\n",
       "      <th>installs</th>\n",
       "      <th>type</th>\n",
       "      <th>price</th>\n",
       "      <th>content_rating</th>\n",
       "      <th>genres</th>\n",
       "      <th>last_updated</th>\n",
       "      <th>current_ver</th>\n",
       "      <th>android_ver</th>\n",
       "    </tr>\n",
       "  </thead>\n",
       "  <tbody>\n",
       "    <tr>\n",
       "      <th>0</th>\n",
       "      <td>PHOTO EDITOR &amp; CANDY CAMERA &amp; GRID &amp; SCRAPBOOK</td>\n",
       "      <td>ART_AND_DESIGN</td>\n",
       "      <td>4.1</td>\n",
       "      <td>159</td>\n",
       "      <td>19M</td>\n",
       "      <td>10,000+</td>\n",
       "      <td>FREE</td>\n",
       "      <td>0</td>\n",
       "      <td>EVERYONE</td>\n",
       "      <td>ART &amp; DESIGN</td>\n",
       "      <td>JANUARY 7, 2018</td>\n",
       "      <td>1.0.0</td>\n",
       "      <td>4.0.3 AND UP</td>\n",
       "    </tr>\n",
       "    <tr>\n",
       "      <th>1</th>\n",
       "      <td>COLORING BOOK MOANA</td>\n",
       "      <td>ART_AND_DESIGN</td>\n",
       "      <td>3.9</td>\n",
       "      <td>967</td>\n",
       "      <td>14M</td>\n",
       "      <td>500,000+</td>\n",
       "      <td>FREE</td>\n",
       "      <td>0</td>\n",
       "      <td>EVERYONE</td>\n",
       "      <td>ART &amp; DESIGN;PRETEND PLAY</td>\n",
       "      <td>JANUARY 15, 2018</td>\n",
       "      <td>2.0.0</td>\n",
       "      <td>4.0.3 AND UP</td>\n",
       "    </tr>\n",
       "    <tr>\n",
       "      <th>2</th>\n",
       "      <td>U LAUNCHER LITE – FREE LIVE COOL THEMES, HIDE ...</td>\n",
       "      <td>ART_AND_DESIGN</td>\n",
       "      <td>4.7</td>\n",
       "      <td>87510</td>\n",
       "      <td>8.7M</td>\n",
       "      <td>5,000,000+</td>\n",
       "      <td>FREE</td>\n",
       "      <td>0</td>\n",
       "      <td>EVERYONE</td>\n",
       "      <td>ART &amp; DESIGN</td>\n",
       "      <td>AUGUST 1, 2018</td>\n",
       "      <td>1.2.4</td>\n",
       "      <td>4.0.3 AND UP</td>\n",
       "    </tr>\n",
       "  </tbody>\n",
       "</table>\n",
       "</div>"
      ],
      "text/plain": [
       "                                                 app        category rating  \\\n",
       "0     PHOTO EDITOR & CANDY CAMERA & GRID & SCRAPBOOK  ART_AND_DESIGN    4.1   \n",
       "1                                COLORING BOOK MOANA  ART_AND_DESIGN    3.9   \n",
       "2  U LAUNCHER LITE – FREE LIVE COOL THEMES, HIDE ...  ART_AND_DESIGN    4.7   \n",
       "\n",
       "  reviews  size    installs  type price content_rating  \\\n",
       "0     159   19M     10,000+  FREE     0       EVERYONE   \n",
       "1     967   14M    500,000+  FREE     0       EVERYONE   \n",
       "2   87510  8.7M  5,000,000+  FREE     0       EVERYONE   \n",
       "\n",
       "                      genres      last_updated current_ver   android_ver  \n",
       "0               ART & DESIGN   JANUARY 7, 2018       1.0.0  4.0.3 AND UP  \n",
       "1  ART & DESIGN;PRETEND PLAY  JANUARY 15, 2018       2.0.0  4.0.3 AND UP  \n",
       "2               ART & DESIGN    AUGUST 1, 2018       1.2.4  4.0.3 AND UP  "
      ]
     },
     "execution_count": 11,
     "metadata": {},
     "output_type": "execute_result"
    }
   ],
   "source": [
    "#check\n",
    "df.head(3)"
   ]
  },
  {
   "cell_type": "markdown",
   "metadata": {},
   "source": [
    "### Size"
   ]
  },
  {
   "cell_type": "markdown",
   "metadata": {},
   "source": [
    "We need to see what letter there are in thhe size column so that we can normalize the data."
   ]
  },
  {
   "cell_type": "code",
   "execution_count": 12,
   "metadata": {},
   "outputs": [
    {
     "name": "stdout",
     "output_type": "stream",
     "text": [
      "['M' '.M' 'VARIES WITH DEVICE' 'K' '.K' ',+']\n"
     ]
    }
   ],
   "source": [
    "print(df['size'].str.replace('\\d+', '').unique())"
   ]
  },
  {
   "cell_type": "markdown",
   "metadata": {},
   "source": [
    "we can see that we have our size data in the form of megabytes, kilobytes and unknown."
   ]
  },
  {
   "cell_type": "code",
   "execution_count": 13,
   "metadata": {},
   "outputs": [
    {
     "data": {
      "text/html": [
       "<div>\n",
       "<style scoped>\n",
       "    .dataframe tbody tr th:only-of-type {\n",
       "        vertical-align: middle;\n",
       "    }\n",
       "\n",
       "    .dataframe tbody tr th {\n",
       "        vertical-align: top;\n",
       "    }\n",
       "\n",
       "    .dataframe thead th {\n",
       "        text-align: right;\n",
       "    }\n",
       "</style>\n",
       "<table border=\"1\" class=\"dataframe\">\n",
       "  <thead>\n",
       "    <tr style=\"text-align: right;\">\n",
       "      <th></th>\n",
       "      <th>app</th>\n",
       "      <th>category</th>\n",
       "      <th>rating</th>\n",
       "      <th>reviews</th>\n",
       "      <th>size</th>\n",
       "      <th>installs</th>\n",
       "      <th>type</th>\n",
       "      <th>price</th>\n",
       "      <th>content_rating</th>\n",
       "      <th>genres</th>\n",
       "      <th>last_updated</th>\n",
       "      <th>current_ver</th>\n",
       "      <th>android_ver</th>\n",
       "    </tr>\n",
       "  </thead>\n",
       "  <tbody>\n",
       "    <tr>\n",
       "      <th>0</th>\n",
       "      <td>PHOTO EDITOR &amp; CANDY CAMERA &amp; GRID &amp; SCRAPBOOK</td>\n",
       "      <td>ART_AND_DESIGN</td>\n",
       "      <td>4.1</td>\n",
       "      <td>159</td>\n",
       "      <td>19M</td>\n",
       "      <td>10,000+</td>\n",
       "      <td>FREE</td>\n",
       "      <td>0</td>\n",
       "      <td>EVERYONE</td>\n",
       "      <td>ART &amp; DESIGN</td>\n",
       "      <td>JANUARY 7, 2018</td>\n",
       "      <td>1.0.0</td>\n",
       "      <td>4.0.3 AND UP</td>\n",
       "    </tr>\n",
       "    <tr>\n",
       "      <th>1</th>\n",
       "      <td>COLORING BOOK MOANA</td>\n",
       "      <td>ART_AND_DESIGN</td>\n",
       "      <td>3.9</td>\n",
       "      <td>967</td>\n",
       "      <td>14M</td>\n",
       "      <td>500,000+</td>\n",
       "      <td>FREE</td>\n",
       "      <td>0</td>\n",
       "      <td>EVERYONE</td>\n",
       "      <td>ART &amp; DESIGN;PRETEND PLAY</td>\n",
       "      <td>JANUARY 15, 2018</td>\n",
       "      <td>2.0.0</td>\n",
       "      <td>4.0.3 AND UP</td>\n",
       "    </tr>\n",
       "    <tr>\n",
       "      <th>2</th>\n",
       "      <td>U LAUNCHER LITE – FREE LIVE COOL THEMES, HIDE ...</td>\n",
       "      <td>ART_AND_DESIGN</td>\n",
       "      <td>4.7</td>\n",
       "      <td>87510</td>\n",
       "      <td>8.7M</td>\n",
       "      <td>5,000,000+</td>\n",
       "      <td>FREE</td>\n",
       "      <td>0</td>\n",
       "      <td>EVERYONE</td>\n",
       "      <td>ART &amp; DESIGN</td>\n",
       "      <td>AUGUST 1, 2018</td>\n",
       "      <td>1.2.4</td>\n",
       "      <td>4.0.3 AND UP</td>\n",
       "    </tr>\n",
       "    <tr>\n",
       "      <th>3</th>\n",
       "      <td>SKETCH - DRAW &amp; PAINT</td>\n",
       "      <td>ART_AND_DESIGN</td>\n",
       "      <td>4.5</td>\n",
       "      <td>215644</td>\n",
       "      <td>25M</td>\n",
       "      <td>50,000,000+</td>\n",
       "      <td>FREE</td>\n",
       "      <td>0</td>\n",
       "      <td>TEEN</td>\n",
       "      <td>ART &amp; DESIGN</td>\n",
       "      <td>JUNE 8, 2018</td>\n",
       "      <td>VARIES WITH DEVICE</td>\n",
       "      <td>4.2 AND UP</td>\n",
       "    </tr>\n",
       "    <tr>\n",
       "      <th>4</th>\n",
       "      <td>PIXEL DRAW - NUMBER ART COLORING BOOK</td>\n",
       "      <td>ART_AND_DESIGN</td>\n",
       "      <td>4.3</td>\n",
       "      <td>967</td>\n",
       "      <td>2.8M</td>\n",
       "      <td>100,000+</td>\n",
       "      <td>FREE</td>\n",
       "      <td>0</td>\n",
       "      <td>EVERYONE</td>\n",
       "      <td>ART &amp; DESIGN;CREATIVITY</td>\n",
       "      <td>JUNE 20, 2018</td>\n",
       "      <td>1.1</td>\n",
       "      <td>4.4 AND UP</td>\n",
       "    </tr>\n",
       "  </tbody>\n",
       "</table>\n",
       "</div>"
      ],
      "text/plain": [
       "                                                 app        category rating  \\\n",
       "0     PHOTO EDITOR & CANDY CAMERA & GRID & SCRAPBOOK  ART_AND_DESIGN    4.1   \n",
       "1                                COLORING BOOK MOANA  ART_AND_DESIGN    3.9   \n",
       "2  U LAUNCHER LITE – FREE LIVE COOL THEMES, HIDE ...  ART_AND_DESIGN    4.7   \n",
       "3                              SKETCH - DRAW & PAINT  ART_AND_DESIGN    4.5   \n",
       "4              PIXEL DRAW - NUMBER ART COLORING BOOK  ART_AND_DESIGN    4.3   \n",
       "\n",
       "  reviews  size     installs  type price content_rating  \\\n",
       "0     159   19M      10,000+  FREE     0       EVERYONE   \n",
       "1     967   14M     500,000+  FREE     0       EVERYONE   \n",
       "2   87510  8.7M   5,000,000+  FREE     0       EVERYONE   \n",
       "3  215644   25M  50,000,000+  FREE     0           TEEN   \n",
       "4     967  2.8M     100,000+  FREE     0       EVERYONE   \n",
       "\n",
       "                      genres      last_updated         current_ver  \\\n",
       "0               ART & DESIGN   JANUARY 7, 2018               1.0.0   \n",
       "1  ART & DESIGN;PRETEND PLAY  JANUARY 15, 2018               2.0.0   \n",
       "2               ART & DESIGN    AUGUST 1, 2018               1.2.4   \n",
       "3               ART & DESIGN      JUNE 8, 2018  VARIES WITH DEVICE   \n",
       "4    ART & DESIGN;CREATIVITY     JUNE 20, 2018                 1.1   \n",
       "\n",
       "    android_ver  \n",
       "0  4.0.3 AND UP  \n",
       "1  4.0.3 AND UP  \n",
       "2  4.0.3 AND UP  \n",
       "3    4.2 AND UP  \n",
       "4    4.4 AND UP  "
      ]
     },
     "execution_count": 13,
     "metadata": {},
     "output_type": "execute_result"
    }
   ],
   "source": [
    "df.loc[df['size'].str.contains('M')].head()"
   ]
  },
  {
   "cell_type": "code",
   "execution_count": 14,
   "metadata": {},
   "outputs": [],
   "source": [
    "#Convert MB to KB\n",
    "df.loc[df['size'].str.contains('M'), 'size'] = df.loc[df['size'].str.contains('M'), 'size'].str.rstrip('M').astype(float) * 1024"
   ]
  },
  {
   "cell_type": "code",
   "execution_count": 15,
   "metadata": {},
   "outputs": [
    {
     "data": {
      "text/html": [
       "<div>\n",
       "<style scoped>\n",
       "    .dataframe tbody tr th:only-of-type {\n",
       "        vertical-align: middle;\n",
       "    }\n",
       "\n",
       "    .dataframe tbody tr th {\n",
       "        vertical-align: top;\n",
       "    }\n",
       "\n",
       "    .dataframe thead th {\n",
       "        text-align: right;\n",
       "    }\n",
       "</style>\n",
       "<table border=\"1\" class=\"dataframe\">\n",
       "  <thead>\n",
       "    <tr style=\"text-align: right;\">\n",
       "      <th></th>\n",
       "      <th>app</th>\n",
       "      <th>category</th>\n",
       "      <th>rating</th>\n",
       "      <th>reviews</th>\n",
       "      <th>size</th>\n",
       "      <th>installs</th>\n",
       "      <th>type</th>\n",
       "      <th>price</th>\n",
       "      <th>content_rating</th>\n",
       "      <th>genres</th>\n",
       "      <th>last_updated</th>\n",
       "      <th>current_ver</th>\n",
       "      <th>android_ver</th>\n",
       "    </tr>\n",
       "  </thead>\n",
       "  <tbody>\n",
       "    <tr>\n",
       "      <th>0</th>\n",
       "      <td>PHOTO EDITOR &amp; CANDY CAMERA &amp; GRID &amp; SCRAPBOOK</td>\n",
       "      <td>ART_AND_DESIGN</td>\n",
       "      <td>4.1</td>\n",
       "      <td>159</td>\n",
       "      <td>19456.0</td>\n",
       "      <td>10,000+</td>\n",
       "      <td>FREE</td>\n",
       "      <td>0</td>\n",
       "      <td>EVERYONE</td>\n",
       "      <td>ART &amp; DESIGN</td>\n",
       "      <td>JANUARY 7, 2018</td>\n",
       "      <td>1.0.0</td>\n",
       "      <td>4.0.3 AND UP</td>\n",
       "    </tr>\n",
       "    <tr>\n",
       "      <th>1</th>\n",
       "      <td>COLORING BOOK MOANA</td>\n",
       "      <td>ART_AND_DESIGN</td>\n",
       "      <td>3.9</td>\n",
       "      <td>967</td>\n",
       "      <td>14336.0</td>\n",
       "      <td>500,000+</td>\n",
       "      <td>FREE</td>\n",
       "      <td>0</td>\n",
       "      <td>EVERYONE</td>\n",
       "      <td>ART &amp; DESIGN;PRETEND PLAY</td>\n",
       "      <td>JANUARY 15, 2018</td>\n",
       "      <td>2.0.0</td>\n",
       "      <td>4.0.3 AND UP</td>\n",
       "    </tr>\n",
       "    <tr>\n",
       "      <th>2</th>\n",
       "      <td>U LAUNCHER LITE – FREE LIVE COOL THEMES, HIDE ...</td>\n",
       "      <td>ART_AND_DESIGN</td>\n",
       "      <td>4.7</td>\n",
       "      <td>87510</td>\n",
       "      <td>8908.8</td>\n",
       "      <td>5,000,000+</td>\n",
       "      <td>FREE</td>\n",
       "      <td>0</td>\n",
       "      <td>EVERYONE</td>\n",
       "      <td>ART &amp; DESIGN</td>\n",
       "      <td>AUGUST 1, 2018</td>\n",
       "      <td>1.2.4</td>\n",
       "      <td>4.0.3 AND UP</td>\n",
       "    </tr>\n",
       "  </tbody>\n",
       "</table>\n",
       "</div>"
      ],
      "text/plain": [
       "                                                 app        category rating  \\\n",
       "0     PHOTO EDITOR & CANDY CAMERA & GRID & SCRAPBOOK  ART_AND_DESIGN    4.1   \n",
       "1                                COLORING BOOK MOANA  ART_AND_DESIGN    3.9   \n",
       "2  U LAUNCHER LITE – FREE LIVE COOL THEMES, HIDE ...  ART_AND_DESIGN    4.7   \n",
       "\n",
       "  reviews     size    installs  type price content_rating  \\\n",
       "0     159  19456.0     10,000+  FREE     0       EVERYONE   \n",
       "1     967  14336.0    500,000+  FREE     0       EVERYONE   \n",
       "2   87510   8908.8  5,000,000+  FREE     0       EVERYONE   \n",
       "\n",
       "                      genres      last_updated current_ver   android_ver  \n",
       "0               ART & DESIGN   JANUARY 7, 2018       1.0.0  4.0.3 AND UP  \n",
       "1  ART & DESIGN;PRETEND PLAY  JANUARY 15, 2018       2.0.0  4.0.3 AND UP  \n",
       "2               ART & DESIGN    AUGUST 1, 2018       1.2.4  4.0.3 AND UP  "
      ]
     },
     "execution_count": 15,
     "metadata": {},
     "output_type": "execute_result"
    }
   ],
   "source": [
    "df.head(3)"
   ]
  },
  {
   "cell_type": "code",
   "execution_count": 16,
   "metadata": {},
   "outputs": [
    {
     "data": {
      "text/plain": [
       "Series([], Name: size, dtype: object)"
      ]
     },
     "execution_count": 16,
     "metadata": {},
     "output_type": "execute_result"
    }
   ],
   "source": [
    "df.loc[df['size'].astype(str).str.contains('K'), 'size'] = df.loc[df['size'].astype(str).str.contains('K'), 'size'].str.replace('K', '')\n",
    "#There are no more values contains 'K'\n",
    "df.loc[df['size'].astype(str).str.contains('K'), 'size']"
   ]
  },
  {
   "cell_type": "code",
   "execution_count": 17,
   "metadata": {},
   "outputs": [],
   "source": [
    "#Adding clarify size column\n",
    "df.rename(columns = {'size': 'size(kb)'}, inplace=True)"
   ]
  },
  {
   "cell_type": "code",
   "execution_count": 18,
   "metadata": {},
   "outputs": [
    {
     "data": {
      "text/plain": [
       "Index(['app', 'category', 'rating', 'reviews', 'size(kb)', 'installs', 'type',\n",
       "       'price', 'content_rating', 'genres', 'last_updated', 'current_ver',\n",
       "       'android_ver'],\n",
       "      dtype='object')"
      ]
     },
     "execution_count": 18,
     "metadata": {},
     "output_type": "execute_result"
    }
   ],
   "source": [
    "#check\n",
    "df.columns"
   ]
  },
  {
   "cell_type": "markdown",
   "metadata": {},
   "source": [
    "We know that 'varies with device means unkown or NaN. So let replace those values."
   ]
  },
  {
   "cell_type": "code",
   "execution_count": 19,
   "metadata": {},
   "outputs": [],
   "source": [
    "df['size(kb)'].replace('VARIES WITH DEVICE', np.nan, inplace=True)"
   ]
  },
  {
   "cell_type": "code",
   "execution_count": 20,
   "metadata": {},
   "outputs": [
    {
     "data": {
      "text/plain": [
       "1695"
      ]
     },
     "execution_count": 20,
     "metadata": {},
     "output_type": "execute_result"
    }
   ],
   "source": [
    "df['size(kb)'].isnull().sum()"
   ]
  },
  {
   "cell_type": "markdown",
   "metadata": {},
   "source": [
    "There are 1695 rows that have NaN values"
   ]
  },
  {
   "cell_type": "code",
   "execution_count": 21,
   "metadata": {},
   "outputs": [],
   "source": [
    "#Remove '+' in size(kb) column\n",
    "df['size(kb)'] = df['size(kb)'].astype(str).str.replace('+', '', regex=False)"
   ]
  },
  {
   "cell_type": "code",
   "execution_count": 22,
   "metadata": {},
   "outputs": [],
   "source": [
    "#removing commas\n",
    "df['size(kb)'] = df['size(kb)'].str.replace(',', '')"
   ]
  },
  {
   "cell_type": "code",
   "execution_count": 23,
   "metadata": {},
   "outputs": [],
   "source": [
    "#Convert size columns to numeric\n",
    "df['size(kb)'] = pd.to_numeric(df['size(kb)'], errors='coerce')"
   ]
  },
  {
   "cell_type": "markdown",
   "metadata": {},
   "source": [
    "__NaN values in size column__  \n",
    "To deal with these missing values, we can fill them the mean value, groupby category."
   ]
  },
  {
   "cell_type": "code",
   "execution_count": 24,
   "metadata": {},
   "outputs": [],
   "source": [
    "df['size(kb)'] = df['size(kb)'].astype(float).fillna(df.groupby('category')['size(kb)'].transform('mean'))"
   ]
  },
  {
   "cell_type": "code",
   "execution_count": 25,
   "metadata": {},
   "outputs": [
    {
     "data": {
      "text/plain": [
       "app                  0\n",
       "category             0\n",
       "rating            1474\n",
       "reviews              0\n",
       "size(kb)             0\n",
       "installs             0\n",
       "type                 1\n",
       "price                0\n",
       "content_rating       1\n",
       "genres               0\n",
       "last_updated         0\n",
       "current_ver          8\n",
       "android_ver          3\n",
       "dtype: int64"
      ]
     },
     "execution_count": 25,
     "metadata": {},
     "output_type": "execute_result"
    }
   ],
   "source": [
    "#check\n",
    "df.isnull().sum()"
   ]
  },
  {
   "cell_type": "markdown",
   "metadata": {},
   "source": [
    "### Last Updated"
   ]
  },
  {
   "cell_type": "markdown",
   "metadata": {},
   "source": [
    "For this  analysis, i only want the year so let remove everything before the comma in the last_updated."
   ]
  },
  {
   "cell_type": "code",
   "execution_count": 26,
   "metadata": {},
   "outputs": [
    {
     "data": {
      "text/plain": [
       "array(['JANUARY 7, 2018', 'JANUARY 15, 2018', 'AUGUST 1, 2018', ...,\n",
       "       'JANUARY 20, 2014', 'FEBRUARY 16, 2014', 'MARCH 23, 2014'],\n",
       "      dtype=object)"
      ]
     },
     "execution_count": 26,
     "metadata": {},
     "output_type": "execute_result"
    }
   ],
   "source": [
    "df['last_updated'].unique()"
   ]
  },
  {
   "cell_type": "markdown",
   "metadata": {},
   "source": [
    "Remove this rows from the dataframe"
   ]
  },
  {
   "cell_type": "code",
   "execution_count": 27,
   "metadata": {},
   "outputs": [],
   "source": [
    "cond= df.loc[df['last_updated'] == '1.0.19'].index\n",
    "df.drop(cond, inplace=True)"
   ]
  },
  {
   "cell_type": "code",
   "execution_count": 28,
   "metadata": {},
   "outputs": [],
   "source": [
    "df['last_updated'] = pd.to_datetime(df['last_updated']).dt.year"
   ]
  },
  {
   "cell_type": "code",
   "execution_count": 29,
   "metadata": {},
   "outputs": [
    {
     "data": {
      "text/plain": [
       "0        2018\n",
       "1        2018\n",
       "2        2018\n",
       "3        2018\n",
       "4        2018\n",
       "         ... \n",
       "10836    2017\n",
       "10837    2018\n",
       "10838    2017\n",
       "10839    2015\n",
       "10840    2018\n",
       "Name: last_updated, Length: 10840, dtype: int64"
      ]
     },
     "execution_count": 29,
     "metadata": {},
     "output_type": "execute_result"
    }
   ],
   "source": [
    "#check\n",
    "df['last_updated']"
   ]
  },
  {
   "cell_type": "markdown",
   "metadata": {},
   "source": [
    "### Installs"
   ]
  },
  {
   "cell_type": "markdown",
   "metadata": {},
   "source": [
    "Remove non numeric digits and convert the datatype to numeric."
   ]
  },
  {
   "cell_type": "code",
   "execution_count": 30,
   "metadata": {},
   "outputs": [
    {
     "data": {
      "text/plain": [
       "array(['10,000+', '500,000+', '5,000,000+', '50,000,000+', '100,000+',\n",
       "       '50,000+', '1,000,000+', '10,000,000+', '5,000+', '100,000,000+',\n",
       "       '1,000,000,000+', '1,000+', '500,000,000+', '50+', '100+', '500+',\n",
       "       '10+', '1+', '5+', '0+', '0'], dtype=object)"
      ]
     },
     "execution_count": 30,
     "metadata": {},
     "output_type": "execute_result"
    }
   ],
   "source": [
    "df['installs'].unique()"
   ]
  },
  {
   "cell_type": "code",
   "execution_count": 31,
   "metadata": {},
   "outputs": [],
   "source": [
    "def remove_plus(df, col):\n",
    "    df[col] = df[col].astype(str).str.replace('+', '', regex=False)\n",
    "remove_plus(df, 'installs')"
   ]
  },
  {
   "cell_type": "code",
   "execution_count": 32,
   "metadata": {},
   "outputs": [
    {
     "data": {
      "text/html": [
       "<div>\n",
       "<style scoped>\n",
       "    .dataframe tbody tr th:only-of-type {\n",
       "        vertical-align: middle;\n",
       "    }\n",
       "\n",
       "    .dataframe tbody tr th {\n",
       "        vertical-align: top;\n",
       "    }\n",
       "\n",
       "    .dataframe thead th {\n",
       "        text-align: right;\n",
       "    }\n",
       "</style>\n",
       "<table border=\"1\" class=\"dataframe\">\n",
       "  <thead>\n",
       "    <tr style=\"text-align: right;\">\n",
       "      <th></th>\n",
       "      <th>app</th>\n",
       "      <th>category</th>\n",
       "      <th>rating</th>\n",
       "      <th>reviews</th>\n",
       "      <th>size(kb)</th>\n",
       "      <th>installs</th>\n",
       "      <th>type</th>\n",
       "      <th>price</th>\n",
       "      <th>content_rating</th>\n",
       "      <th>genres</th>\n",
       "      <th>last_updated</th>\n",
       "      <th>current_ver</th>\n",
       "      <th>android_ver</th>\n",
       "    </tr>\n",
       "  </thead>\n",
       "  <tbody>\n",
       "    <tr>\n",
       "      <th>0</th>\n",
       "      <td>PHOTO EDITOR &amp; CANDY CAMERA &amp; GRID &amp; SCRAPBOOK</td>\n",
       "      <td>ART_AND_DESIGN</td>\n",
       "      <td>4.1</td>\n",
       "      <td>159</td>\n",
       "      <td>19456.0</td>\n",
       "      <td>10,000</td>\n",
       "      <td>FREE</td>\n",
       "      <td>0</td>\n",
       "      <td>EVERYONE</td>\n",
       "      <td>ART &amp; DESIGN</td>\n",
       "      <td>2018</td>\n",
       "      <td>1.0.0</td>\n",
       "      <td>4.0.3 AND UP</td>\n",
       "    </tr>\n",
       "    <tr>\n",
       "      <th>1</th>\n",
       "      <td>COLORING BOOK MOANA</td>\n",
       "      <td>ART_AND_DESIGN</td>\n",
       "      <td>3.9</td>\n",
       "      <td>967</td>\n",
       "      <td>14336.0</td>\n",
       "      <td>500,000</td>\n",
       "      <td>FREE</td>\n",
       "      <td>0</td>\n",
       "      <td>EVERYONE</td>\n",
       "      <td>ART &amp; DESIGN;PRETEND PLAY</td>\n",
       "      <td>2018</td>\n",
       "      <td>2.0.0</td>\n",
       "      <td>4.0.3 AND UP</td>\n",
       "    </tr>\n",
       "    <tr>\n",
       "      <th>2</th>\n",
       "      <td>U LAUNCHER LITE – FREE LIVE COOL THEMES, HIDE ...</td>\n",
       "      <td>ART_AND_DESIGN</td>\n",
       "      <td>4.7</td>\n",
       "      <td>87510</td>\n",
       "      <td>8908.8</td>\n",
       "      <td>5,000,000</td>\n",
       "      <td>FREE</td>\n",
       "      <td>0</td>\n",
       "      <td>EVERYONE</td>\n",
       "      <td>ART &amp; DESIGN</td>\n",
       "      <td>2018</td>\n",
       "      <td>1.2.4</td>\n",
       "      <td>4.0.3 AND UP</td>\n",
       "    </tr>\n",
       "  </tbody>\n",
       "</table>\n",
       "</div>"
      ],
      "text/plain": [
       "                                                 app        category rating  \\\n",
       "0     PHOTO EDITOR & CANDY CAMERA & GRID & SCRAPBOOK  ART_AND_DESIGN    4.1   \n",
       "1                                COLORING BOOK MOANA  ART_AND_DESIGN    3.9   \n",
       "2  U LAUNCHER LITE – FREE LIVE COOL THEMES, HIDE ...  ART_AND_DESIGN    4.7   \n",
       "\n",
       "  reviews  size(kb)   installs  type price content_rating  \\\n",
       "0     159   19456.0     10,000  FREE     0       EVERYONE   \n",
       "1     967   14336.0    500,000  FREE     0       EVERYONE   \n",
       "2   87510    8908.8  5,000,000  FREE     0       EVERYONE   \n",
       "\n",
       "                      genres  last_updated current_ver   android_ver  \n",
       "0               ART & DESIGN          2018       1.0.0  4.0.3 AND UP  \n",
       "1  ART & DESIGN;PRETEND PLAY          2018       2.0.0  4.0.3 AND UP  \n",
       "2               ART & DESIGN          2018       1.2.4  4.0.3 AND UP  "
      ]
     },
     "execution_count": 32,
     "metadata": {},
     "output_type": "execute_result"
    }
   ],
   "source": [
    "df.head(3)"
   ]
  },
  {
   "cell_type": "code",
   "execution_count": 33,
   "metadata": {},
   "outputs": [],
   "source": [
    "def remove_commas(df, col):\n",
    "    df[col] = df[col].str.replace(',', '')\n",
    "remove_commas(df, 'installs')"
   ]
  },
  {
   "cell_type": "code",
   "execution_count": 34,
   "metadata": {},
   "outputs": [],
   "source": [
    "df['installs'] = pd.to_numeric(df['installs'])"
   ]
  },
  {
   "cell_type": "code",
   "execution_count": 35,
   "metadata": {},
   "outputs": [
    {
     "name": "stdout",
     "output_type": "stream",
     "text": [
      "<class 'pandas.core.frame.DataFrame'>\n",
      "Int64Index: 10840 entries, 0 to 10840\n",
      "Data columns (total 13 columns):\n",
      " #   Column          Non-Null Count  Dtype  \n",
      "---  ------          --------------  -----  \n",
      " 0   app             10840 non-null  object \n",
      " 1   category        10840 non-null  object \n",
      " 2   rating          9366 non-null   object \n",
      " 3   reviews         10840 non-null  object \n",
      " 4   size(kb)        10840 non-null  float64\n",
      " 5   installs        10840 non-null  int64  \n",
      " 6   type            10839 non-null  object \n",
      " 7   price           10840 non-null  object \n",
      " 8   content_rating  10840 non-null  object \n",
      " 9   genres          10840 non-null  object \n",
      " 10  last_updated    10840 non-null  int64  \n",
      " 11  current_ver     10832 non-null  object \n",
      " 12  android_ver     10838 non-null  object \n",
      "dtypes: float64(1), int64(2), object(10)\n",
      "memory usage: 1.2+ MB\n"
     ]
    }
   ],
   "source": [
    "df.info()"
   ]
  },
  {
   "cell_type": "markdown",
   "metadata": {},
   "source": [
    "### Curent_ver and Android_ver"
   ]
  },
  {
   "cell_type": "markdown",
   "metadata": {},
   "source": [
    "We don't need these columns for this analysis so we will remove those."
   ]
  },
  {
   "cell_type": "code",
   "execution_count": 36,
   "metadata": {},
   "outputs": [],
   "source": [
    "df = df.drop(['current_ver', 'android_ver'], axis=1)"
   ]
  },
  {
   "cell_type": "code",
   "execution_count": 37,
   "metadata": {},
   "outputs": [
    {
     "data": {
      "text/html": [
       "<div>\n",
       "<style scoped>\n",
       "    .dataframe tbody tr th:only-of-type {\n",
       "        vertical-align: middle;\n",
       "    }\n",
       "\n",
       "    .dataframe tbody tr th {\n",
       "        vertical-align: top;\n",
       "    }\n",
       "\n",
       "    .dataframe thead th {\n",
       "        text-align: right;\n",
       "    }\n",
       "</style>\n",
       "<table border=\"1\" class=\"dataframe\">\n",
       "  <thead>\n",
       "    <tr style=\"text-align: right;\">\n",
       "      <th></th>\n",
       "      <th>app</th>\n",
       "      <th>category</th>\n",
       "      <th>rating</th>\n",
       "      <th>reviews</th>\n",
       "      <th>size(kb)</th>\n",
       "      <th>installs</th>\n",
       "      <th>type</th>\n",
       "      <th>price</th>\n",
       "      <th>content_rating</th>\n",
       "      <th>genres</th>\n",
       "      <th>last_updated</th>\n",
       "    </tr>\n",
       "  </thead>\n",
       "  <tbody>\n",
       "    <tr>\n",
       "      <th>0</th>\n",
       "      <td>PHOTO EDITOR &amp; CANDY CAMERA &amp; GRID &amp; SCRAPBOOK</td>\n",
       "      <td>ART_AND_DESIGN</td>\n",
       "      <td>4.1</td>\n",
       "      <td>159</td>\n",
       "      <td>19456.0</td>\n",
       "      <td>10000</td>\n",
       "      <td>FREE</td>\n",
       "      <td>0</td>\n",
       "      <td>EVERYONE</td>\n",
       "      <td>ART &amp; DESIGN</td>\n",
       "      <td>2018</td>\n",
       "    </tr>\n",
       "    <tr>\n",
       "      <th>1</th>\n",
       "      <td>COLORING BOOK MOANA</td>\n",
       "      <td>ART_AND_DESIGN</td>\n",
       "      <td>3.9</td>\n",
       "      <td>967</td>\n",
       "      <td>14336.0</td>\n",
       "      <td>500000</td>\n",
       "      <td>FREE</td>\n",
       "      <td>0</td>\n",
       "      <td>EVERYONE</td>\n",
       "      <td>ART &amp; DESIGN;PRETEND PLAY</td>\n",
       "      <td>2018</td>\n",
       "    </tr>\n",
       "    <tr>\n",
       "      <th>2</th>\n",
       "      <td>U LAUNCHER LITE – FREE LIVE COOL THEMES, HIDE ...</td>\n",
       "      <td>ART_AND_DESIGN</td>\n",
       "      <td>4.7</td>\n",
       "      <td>87510</td>\n",
       "      <td>8908.8</td>\n",
       "      <td>5000000</td>\n",
       "      <td>FREE</td>\n",
       "      <td>0</td>\n",
       "      <td>EVERYONE</td>\n",
       "      <td>ART &amp; DESIGN</td>\n",
       "      <td>2018</td>\n",
       "    </tr>\n",
       "    <tr>\n",
       "      <th>3</th>\n",
       "      <td>SKETCH - DRAW &amp; PAINT</td>\n",
       "      <td>ART_AND_DESIGN</td>\n",
       "      <td>4.5</td>\n",
       "      <td>215644</td>\n",
       "      <td>25600.0</td>\n",
       "      <td>50000000</td>\n",
       "      <td>FREE</td>\n",
       "      <td>0</td>\n",
       "      <td>TEEN</td>\n",
       "      <td>ART &amp; DESIGN</td>\n",
       "      <td>2018</td>\n",
       "    </tr>\n",
       "    <tr>\n",
       "      <th>4</th>\n",
       "      <td>PIXEL DRAW - NUMBER ART COLORING BOOK</td>\n",
       "      <td>ART_AND_DESIGN</td>\n",
       "      <td>4.3</td>\n",
       "      <td>967</td>\n",
       "      <td>2867.2</td>\n",
       "      <td>100000</td>\n",
       "      <td>FREE</td>\n",
       "      <td>0</td>\n",
       "      <td>EVERYONE</td>\n",
       "      <td>ART &amp; DESIGN;CREATIVITY</td>\n",
       "      <td>2018</td>\n",
       "    </tr>\n",
       "  </tbody>\n",
       "</table>\n",
       "</div>"
      ],
      "text/plain": [
       "                                                 app        category rating  \\\n",
       "0     PHOTO EDITOR & CANDY CAMERA & GRID & SCRAPBOOK  ART_AND_DESIGN    4.1   \n",
       "1                                COLORING BOOK MOANA  ART_AND_DESIGN    3.9   \n",
       "2  U LAUNCHER LITE – FREE LIVE COOL THEMES, HIDE ...  ART_AND_DESIGN    4.7   \n",
       "3                              SKETCH - DRAW & PAINT  ART_AND_DESIGN    4.5   \n",
       "4              PIXEL DRAW - NUMBER ART COLORING BOOK  ART_AND_DESIGN    4.3   \n",
       "\n",
       "  reviews  size(kb)  installs  type price content_rating  \\\n",
       "0     159   19456.0     10000  FREE     0       EVERYONE   \n",
       "1     967   14336.0    500000  FREE     0       EVERYONE   \n",
       "2   87510    8908.8   5000000  FREE     0       EVERYONE   \n",
       "3  215644   25600.0  50000000  FREE     0           TEEN   \n",
       "4     967    2867.2    100000  FREE     0       EVERYONE   \n",
       "\n",
       "                      genres  last_updated  \n",
       "0               ART & DESIGN          2018  \n",
       "1  ART & DESIGN;PRETEND PLAY          2018  \n",
       "2               ART & DESIGN          2018  \n",
       "3               ART & DESIGN          2018  \n",
       "4    ART & DESIGN;CREATIVITY          2018  "
      ]
     },
     "execution_count": 37,
     "metadata": {},
     "output_type": "execute_result"
    }
   ],
   "source": [
    "df.head()"
   ]
  },
  {
   "cell_type": "markdown",
   "metadata": {},
   "source": [
    "### Rating, Reviews and Price to Numeric"
   ]
  },
  {
   "cell_type": "markdown",
   "metadata": {},
   "source": [
    "Remove $ from price column"
   ]
  },
  {
   "cell_type": "code",
   "execution_count": 45,
   "metadata": {},
   "outputs": [],
   "source": [
    "def remove_money_symbol(df, col):\n",
    "    df[col] = pd.to_numeric(df[col].str.replace('$',''))\n",
    "remove_money_symbol(df, 'price')"
   ]
  },
  {
   "cell_type": "markdown",
   "metadata": {},
   "source": [
    "Covert rating, price, reviews columns to numeric"
   ]
  },
  {
   "cell_type": "code",
   "execution_count": 46,
   "metadata": {},
   "outputs": [],
   "source": [
    "def to_numeric(df, col):\n",
    "    df[col] = pd.to_numeric(df[col])\n",
    "to_numeric(df, 'rating')\n",
    "to_numeric(df, 'price')\n",
    "to_numeric(df, 'reviews')"
   ]
  },
  {
   "cell_type": "markdown",
   "metadata": {},
   "source": [
    "Fill NaN values in price, rating columns by mean values of category"
   ]
  },
  {
   "cell_type": "code",
   "execution_count": 47,
   "metadata": {},
   "outputs": [],
   "source": [
    "df['price'] = df['price'].astype(float).fillna(df.groupby('category')['price'].transform('mean'))"
   ]
  },
  {
   "cell_type": "code",
   "execution_count": 48,
   "metadata": {},
   "outputs": [],
   "source": [
    "df['rating'] = df['rating'].astype(float).fillna(df.groupby('category')['rating'].transform('mean'))"
   ]
  },
  {
   "cell_type": "code",
   "execution_count": 49,
   "metadata": {},
   "outputs": [
    {
     "name": "stdout",
     "output_type": "stream",
     "text": [
      "<class 'pandas.core.frame.DataFrame'>\n",
      "Int64Index: 10840 entries, 0 to 10840\n",
      "Data columns (total 11 columns):\n",
      " #   Column          Non-Null Count  Dtype  \n",
      "---  ------          --------------  -----  \n",
      " 0   app             10840 non-null  object \n",
      " 1   category        10840 non-null  object \n",
      " 2   rating          10840 non-null  float64\n",
      " 3   reviews         10840 non-null  int64  \n",
      " 4   size(kb)        10840 non-null  float64\n",
      " 5   installs        10840 non-null  int64  \n",
      " 6   type            10839 non-null  object \n",
      " 7   price           10840 non-null  float64\n",
      " 8   content_rating  10840 non-null  object \n",
      " 9   genres          10840 non-null  object \n",
      " 10  last_updated    10840 non-null  int64  \n",
      "dtypes: float64(3), int64(3), object(5)\n",
      "memory usage: 1016.2+ KB\n"
     ]
    }
   ],
   "source": [
    "df.info()"
   ]
  },
  {
   "cell_type": "markdown",
   "metadata": {},
   "source": [
    "### Type"
   ]
  },
  {
   "cell_type": "markdown",
   "metadata": {},
   "source": [
    "There are one null value> It seems nonsensical so we can droup this row."
   ]
  },
  {
   "cell_type": "code",
   "execution_count": 50,
   "metadata": {},
   "outputs": [
    {
     "data": {
      "text/html": [
       "<div>\n",
       "<style scoped>\n",
       "    .dataframe tbody tr th:only-of-type {\n",
       "        vertical-align: middle;\n",
       "    }\n",
       "\n",
       "    .dataframe tbody tr th {\n",
       "        vertical-align: top;\n",
       "    }\n",
       "\n",
       "    .dataframe thead th {\n",
       "        text-align: right;\n",
       "    }\n",
       "</style>\n",
       "<table border=\"1\" class=\"dataframe\">\n",
       "  <thead>\n",
       "    <tr style=\"text-align: right;\">\n",
       "      <th></th>\n",
       "      <th>app</th>\n",
       "      <th>category</th>\n",
       "      <th>rating</th>\n",
       "      <th>reviews</th>\n",
       "      <th>size(kb)</th>\n",
       "      <th>installs</th>\n",
       "      <th>type</th>\n",
       "      <th>price</th>\n",
       "      <th>content_rating</th>\n",
       "      <th>genres</th>\n",
       "      <th>last_updated</th>\n",
       "    </tr>\n",
       "  </thead>\n",
       "  <tbody>\n",
       "    <tr>\n",
       "      <th>9148</th>\n",
       "      <td>COMMAND &amp; CONQUER: RIVALS</td>\n",
       "      <td>FAMILY</td>\n",
       "      <td>4.192272</td>\n",
       "      <td>0</td>\n",
       "      <td>28998.679803</td>\n",
       "      <td>0</td>\n",
       "      <td>NaN</td>\n",
       "      <td>0.0</td>\n",
       "      <td>EVERYONE 10+</td>\n",
       "      <td>STRATEGY</td>\n",
       "      <td>2018</td>\n",
       "    </tr>\n",
       "  </tbody>\n",
       "</table>\n",
       "</div>"
      ],
      "text/plain": [
       "                            app category    rating  reviews      size(kb)  \\\n",
       "9148  COMMAND & CONQUER: RIVALS   FAMILY  4.192272        0  28998.679803   \n",
       "\n",
       "      installs type  price content_rating    genres  last_updated  \n",
       "9148         0  NaN    0.0   EVERYONE 10+  STRATEGY          2018  "
      ]
     },
     "execution_count": 50,
     "metadata": {},
     "output_type": "execute_result"
    }
   ],
   "source": [
    "df.loc[df['type'].isnull()]"
   ]
  },
  {
   "cell_type": "code",
   "execution_count": 51,
   "metadata": {},
   "outputs": [],
   "source": [
    "df.dropna(subset=['type'], inplace=True)"
   ]
  },
  {
   "cell_type": "markdown",
   "metadata": {},
   "source": [
    "__Let's do final check of the data__"
   ]
  },
  {
   "cell_type": "code",
   "execution_count": 52,
   "metadata": {},
   "outputs": [
    {
     "name": "stdout",
     "output_type": "stream",
     "text": [
      "<class 'pandas.core.frame.DataFrame'>\n",
      "Int64Index: 10839 entries, 0 to 10840\n",
      "Data columns (total 11 columns):\n",
      " #   Column          Non-Null Count  Dtype  \n",
      "---  ------          --------------  -----  \n",
      " 0   app             10839 non-null  object \n",
      " 1   category        10839 non-null  object \n",
      " 2   rating          10839 non-null  float64\n",
      " 3   reviews         10839 non-null  int64  \n",
      " 4   size(kb)        10839 non-null  float64\n",
      " 5   installs        10839 non-null  int64  \n",
      " 6   type            10839 non-null  object \n",
      " 7   price           10839 non-null  float64\n",
      " 8   content_rating  10839 non-null  object \n",
      " 9   genres          10839 non-null  object \n",
      " 10  last_updated    10839 non-null  int64  \n",
      "dtypes: float64(3), int64(3), object(5)\n",
      "memory usage: 1016.2+ KB\n"
     ]
    }
   ],
   "source": [
    "df.info()"
   ]
  },
  {
   "cell_type": "code",
   "execution_count": 53,
   "metadata": {},
   "outputs": [
    {
     "data": {
      "text/html": [
       "<div>\n",
       "<style scoped>\n",
       "    .dataframe tbody tr th:only-of-type {\n",
       "        vertical-align: middle;\n",
       "    }\n",
       "\n",
       "    .dataframe tbody tr th {\n",
       "        vertical-align: top;\n",
       "    }\n",
       "\n",
       "    .dataframe thead th {\n",
       "        text-align: right;\n",
       "    }\n",
       "</style>\n",
       "<table border=\"1\" class=\"dataframe\">\n",
       "  <thead>\n",
       "    <tr style=\"text-align: right;\">\n",
       "      <th></th>\n",
       "      <th>app</th>\n",
       "      <th>category</th>\n",
       "      <th>rating</th>\n",
       "      <th>reviews</th>\n",
       "      <th>size(kb)</th>\n",
       "      <th>installs</th>\n",
       "      <th>type</th>\n",
       "      <th>price</th>\n",
       "      <th>content_rating</th>\n",
       "      <th>genres</th>\n",
       "      <th>last_updated</th>\n",
       "    </tr>\n",
       "  </thead>\n",
       "  <tbody>\n",
       "    <tr>\n",
       "      <th>2698</th>\n",
       "      <td>FLIPKART ONLINE SHOPPING APP</td>\n",
       "      <td>SHOPPING</td>\n",
       "      <td>4.4</td>\n",
       "      <td>6012719</td>\n",
       "      <td>16563.260697</td>\n",
       "      <td>100000000</td>\n",
       "      <td>FREE</td>\n",
       "      <td>0.0</td>\n",
       "      <td>TEEN</td>\n",
       "      <td>SHOPPING</td>\n",
       "      <td>2018</td>\n",
       "    </tr>\n",
       "    <tr>\n",
       "      <th>10015</th>\n",
       "      <td>PREGNANT EMERGENCY SURGERY</td>\n",
       "      <td>FAMILY</td>\n",
       "      <td>3.8</td>\n",
       "      <td>127229</td>\n",
       "      <td>34816.000000</td>\n",
       "      <td>10000000</td>\n",
       "      <td>FREE</td>\n",
       "      <td>0.0</td>\n",
       "      <td>EVERYONE</td>\n",
       "      <td>CASUAL</td>\n",
       "      <td>2017</td>\n",
       "    </tr>\n",
       "    <tr>\n",
       "      <th>8255</th>\n",
       "      <td>MARVEL AND DC WALLPAPERS</td>\n",
       "      <td>PERSONALIZATION</td>\n",
       "      <td>4.2</td>\n",
       "      <td>249</td>\n",
       "      <td>93184.000000</td>\n",
       "      <td>10000</td>\n",
       "      <td>FREE</td>\n",
       "      <td>0.0</td>\n",
       "      <td>EVERYONE</td>\n",
       "      <td>PERSONALIZATION</td>\n",
       "      <td>2018</td>\n",
       "    </tr>\n",
       "    <tr>\n",
       "      <th>3894</th>\n",
       "      <td>BUBBLE SHOOTER</td>\n",
       "      <td>GAME</td>\n",
       "      <td>4.5</td>\n",
       "      <td>43576</td>\n",
       "      <td>51200.000000</td>\n",
       "      <td>5000000</td>\n",
       "      <td>FREE</td>\n",
       "      <td>0.0</td>\n",
       "      <td>EVERYONE</td>\n",
       "      <td>ARCADE</td>\n",
       "      <td>2017</td>\n",
       "    </tr>\n",
       "    <tr>\n",
       "      <th>9384</th>\n",
       "      <td>DRIVING SCHOOL 3D 2017</td>\n",
       "      <td>FAMILY</td>\n",
       "      <td>3.9</td>\n",
       "      <td>5075</td>\n",
       "      <td>49152.000000</td>\n",
       "      <td>500000</td>\n",
       "      <td>FREE</td>\n",
       "      <td>0.0</td>\n",
       "      <td>EVERYONE</td>\n",
       "      <td>SIMULATION</td>\n",
       "      <td>2017</td>\n",
       "    </tr>\n",
       "  </tbody>\n",
       "</table>\n",
       "</div>"
      ],
      "text/plain": [
       "                                app         category  rating  reviews  \\\n",
       "2698   FLIPKART ONLINE SHOPPING APP         SHOPPING     4.4  6012719   \n",
       "10015    PREGNANT EMERGENCY SURGERY           FAMILY     3.8   127229   \n",
       "8255       MARVEL AND DC WALLPAPERS  PERSONALIZATION     4.2      249   \n",
       "3894                 BUBBLE SHOOTER             GAME     4.5    43576   \n",
       "9384         DRIVING SCHOOL 3D 2017           FAMILY     3.9     5075   \n",
       "\n",
       "           size(kb)   installs  type  price content_rating           genres  \\\n",
       "2698   16563.260697  100000000  FREE    0.0           TEEN         SHOPPING   \n",
       "10015  34816.000000   10000000  FREE    0.0       EVERYONE           CASUAL   \n",
       "8255   93184.000000      10000  FREE    0.0       EVERYONE  PERSONALIZATION   \n",
       "3894   51200.000000    5000000  FREE    0.0       EVERYONE           ARCADE   \n",
       "9384   49152.000000     500000  FREE    0.0       EVERYONE       SIMULATION   \n",
       "\n",
       "       last_updated  \n",
       "2698           2018  \n",
       "10015          2017  \n",
       "8255           2018  \n",
       "3894           2017  \n",
       "9384           2017  "
      ]
     },
     "execution_count": 53,
     "metadata": {},
     "output_type": "execute_result"
    }
   ],
   "source": [
    "df.sample(5)"
   ]
  },
  {
   "cell_type": "markdown",
   "metadata": {},
   "source": [
    "## 3. EDA Phase"
   ]
  },
  {
   "cell_type": "markdown",
   "metadata": {},
   "source": [
    "__How many of each category do we have?__"
   ]
  },
  {
   "cell_type": "code",
   "execution_count": 54,
   "metadata": {},
   "outputs": [
    {
     "data": {
      "image/png": "[encoded data removed]",
      "text/plain": [
       "<Figure size 1440x720 with 1 Axes>"
      ]
     },
     "metadata": {
      "needs_background": "light"
     },
     "output_type": "display_data"
    }
   ],
   "source": [
    "plt.figure(figsize=(20, 10))\n",
    "fig = sns.countplot(df['category'])\n",
    "plt.xticks(rotation=60)\n",
    "plt.show()"
   ]
  },
  {
   "cell_type": "markdown",
   "metadata": {},
   "source": [
    "__What the distributon of rating?__"
   ]
  },
  {
   "cell_type": "code",
   "execution_count": 55,
   "metadata": {},
   "outputs": [
    {
     "data": {
      "image/png": "[encoded data removed]",
      "text/plain": [
       "<Figure size 1440x720 with 1 Axes>"
      ]
     },
     "metadata": {
      "needs_background": "light"
     },
     "output_type": "display_data"
    }
   ],
   "source": [
    "plt.figure(figsize=(20, 10))\n",
    "g = sns.histplot(df['rating'])\n",
    "g.set_title('Histogram of Ratings', fontsize=20)\n",
    "g.set_xlabel('Rating', fontsize=15)\n",
    "g.set_ylabel('Count', fontsize=15)\n",
    "plt.show()"
   ]
  },
  {
   "cell_type": "markdown",
   "metadata": {},
   "source": [
    "__Which category had the most installations?__"
   ]
  },
  {
   "cell_type": "code",
   "execution_count": 86,
   "metadata": {},
   "outputs": [],
   "source": [
    "in_cat = df.groupby('category')['installs'].sum()\n",
    "in_cat = pd.DataFrame(in_cat).sort_values(by = 'installs', ascending = False).head(20)"
   ]
  },
  {
   "cell_type": "code",
   "execution_count": 87,
   "metadata": {},
   "outputs": [
    {
     "data": {
      "text/html": [
       "<div>\n",
       "<style scoped>\n",
       "    .dataframe tbody tr th:only-of-type {\n",
       "        vertical-align: middle;\n",
       "    }\n",
       "\n",
       "    .dataframe tbody tr th {\n",
       "        vertical-align: top;\n",
       "    }\n",
       "\n",
       "    .dataframe thead th {\n",
       "        text-align: right;\n",
       "    }\n",
       "</style>\n",
       "<table border=\"1\" class=\"dataframe\">\n",
       "  <thead>\n",
       "    <tr style=\"text-align: right;\">\n",
       "      <th></th>\n",
       "      <th>installs</th>\n",
       "    </tr>\n",
       "    <tr>\n",
       "      <th>category</th>\n",
       "      <th></th>\n",
       "    </tr>\n",
       "  </thead>\n",
       "  <tbody>\n",
       "    <tr>\n",
       "      <th>GAME</th>\n",
       "      <td>35086024415</td>\n",
       "    </tr>\n",
       "    <tr>\n",
       "      <th>COMMUNICATION</th>\n",
       "      <td>32647276251</td>\n",
       "    </tr>\n",
       "    <tr>\n",
       "      <th>PRODUCTIVITY</th>\n",
       "      <td>14176091369</td>\n",
       "    </tr>\n",
       "    <tr>\n",
       "      <th>SOCIAL</th>\n",
       "      <td>14069867902</td>\n",
       "    </tr>\n",
       "    <tr>\n",
       "      <th>TOOLS</th>\n",
       "      <td>11452771915</td>\n",
       "    </tr>\n",
       "    <tr>\n",
       "      <th>FAMILY</th>\n",
       "      <td>10258263505</td>\n",
       "    </tr>\n",
       "    <tr>\n",
       "      <th>PHOTOGRAPHY</th>\n",
       "      <td>10088247655</td>\n",
       "    </tr>\n",
       "    <tr>\n",
       "      <th>NEWS_AND_MAGAZINES</th>\n",
       "      <td>7496317760</td>\n",
       "    </tr>\n",
       "    <tr>\n",
       "      <th>TRAVEL_AND_LOCAL</th>\n",
       "      <td>6868887146</td>\n",
       "    </tr>\n",
       "    <tr>\n",
       "      <th>VIDEO_PLAYERS</th>\n",
       "      <td>6222002720</td>\n",
       "    </tr>\n",
       "    <tr>\n",
       "      <th>SHOPPING</th>\n",
       "      <td>3247848785</td>\n",
       "    </tr>\n",
       "    <tr>\n",
       "      <th>ENTERTAINMENT</th>\n",
       "      <td>2869160000</td>\n",
       "    </tr>\n",
       "    <tr>\n",
       "      <th>PERSONALIZATION</th>\n",
       "      <td>2325494782</td>\n",
       "    </tr>\n",
       "    <tr>\n",
       "      <th>BOOKS_AND_REFERENCE</th>\n",
       "      <td>1921469576</td>\n",
       "    </tr>\n",
       "    <tr>\n",
       "      <th>SPORTS</th>\n",
       "      <td>1751174498</td>\n",
       "    </tr>\n",
       "    <tr>\n",
       "      <th>HEALTH_AND_FITNESS</th>\n",
       "      <td>1583072512</td>\n",
       "    </tr>\n",
       "    <tr>\n",
       "      <th>BUSINESS</th>\n",
       "      <td>1001914865</td>\n",
       "    </tr>\n",
       "    <tr>\n",
       "      <th>FINANCE</th>\n",
       "      <td>876648734</td>\n",
       "    </tr>\n",
       "    <tr>\n",
       "      <th>EDUCATION</th>\n",
       "      <td>871452000</td>\n",
       "    </tr>\n",
       "    <tr>\n",
       "      <th>MAPS_AND_NAVIGATION</th>\n",
       "      <td>724281890</td>\n",
       "    </tr>\n",
       "  </tbody>\n",
       "</table>\n",
       "</div>"
      ],
      "text/plain": [
       "                        installs\n",
       "category                        \n",
       "GAME                 35086024415\n",
       "COMMUNICATION        32647276251\n",
       "PRODUCTIVITY         14176091369\n",
       "SOCIAL               14069867902\n",
       "TOOLS                11452771915\n",
       "FAMILY               10258263505\n",
       "PHOTOGRAPHY          10088247655\n",
       "NEWS_AND_MAGAZINES    7496317760\n",
       "TRAVEL_AND_LOCAL      6868887146\n",
       "VIDEO_PLAYERS         6222002720\n",
       "SHOPPING              3247848785\n",
       "ENTERTAINMENT         2869160000\n",
       "PERSONALIZATION       2325494782\n",
       "BOOKS_AND_REFERENCE   1921469576\n",
       "SPORTS                1751174498\n",
       "HEALTH_AND_FITNESS    1583072512\n",
       "BUSINESS              1001914865\n",
       "FINANCE                876648734\n",
       "EDUCATION              871452000\n",
       "MAPS_AND_NAVIGATION    724281890"
      ]
     },
     "execution_count": 87,
     "metadata": {},
     "output_type": "execute_result"
    }
   ],
   "source": [
    "in_cat"
   ]
  },
  {
   "cell_type": "code",
   "execution_count": 89,
   "metadata": {},
   "outputs": [
    {
     "data": {
      "text/plain": [
       "(array([ 0,  1,  2,  3,  4,  5,  6,  7,  8,  9, 10, 11, 12, 13, 14, 15, 16,\n",
       "        17, 18, 19]),\n",
       " [Text(0, 0, 'GAME'),\n",
       "  Text(1, 0, 'COMMUNICATION'),\n",
       "  Text(2, 0, 'PRODUCTIVITY'),\n",
       "  Text(3, 0, 'SOCIAL'),\n",
       "  Text(4, 0, 'TOOLS'),\n",
       "  Text(5, 0, 'FAMILY'),\n",
       "  Text(6, 0, 'PHOTOGRAPHY'),\n",
       "  Text(7, 0, 'NEWS_AND_MAGAZINES'),\n",
       "  Text(8, 0, 'TRAVEL_AND_LOCAL'),\n",
       "  Text(9, 0, 'VIDEO_PLAYERS'),\n",
       "  Text(10, 0, 'SHOPPING'),\n",
       "  Text(11, 0, 'ENTERTAINMENT'),\n",
       "  Text(12, 0, 'PERSONALIZATION'),\n",
       "  Text(13, 0, 'BOOKS_AND_REFERENCE'),\n",
       "  Text(14, 0, 'SPORTS'),\n",
       "  Text(15, 0, 'HEALTH_AND_FITNESS'),\n",
       "  Text(16, 0, 'BUSINESS'),\n",
       "  Text(17, 0, 'FINANCE'),\n",
       "  Text(18, 0, 'EDUCATION'),\n",
       "  Text(19, 0, 'MAPS_AND_NAVIGATION')])"
      ]
     },
     "execution_count": 89,
     "metadata": {},
     "output_type": "execute_result"
    },
    {
     "data": {
      "image/png": "[encoded data removed]",
      "text/plain": [
       "<Figure size 1440x720 with 1 Axes>"
      ]
     },
     "metadata": {
      "needs_background": "light"
     },
     "output_type": "display_data"
    }
   ],
   "source": [
    "plt.figure(figsize=(20, 10))\n",
    "sns.barplot(data=in_cat, x=in_cat.index, y=in_cat['installs'])\n",
    "plt.title('Top 20 most installed categories')\n",
    "plt.xticks(rotation=60)"
   ]
  },
  {
   "cell_type": "code",
   "execution_count": 81,
   "metadata": {},
   "outputs": [],
   "source": [
    "ga_cat =df[ df['category']=='GAME'].sort_values(by='installs', ascending=False).head(10)"
   ]
  },
  {
   "cell_type": "code",
   "execution_count": 82,
   "metadata": {},
   "outputs": [
    {
     "data": {
      "text/html": [
       "<div>\n",
       "<style scoped>\n",
       "    .dataframe tbody tr th:only-of-type {\n",
       "        vertical-align: middle;\n",
       "    }\n",
       "\n",
       "    .dataframe tbody tr th {\n",
       "        vertical-align: top;\n",
       "    }\n",
       "\n",
       "    .dataframe thead th {\n",
       "        text-align: right;\n",
       "    }\n",
       "</style>\n",
       "<table border=\"1\" class=\"dataframe\">\n",
       "  <thead>\n",
       "    <tr style=\"text-align: right;\">\n",
       "      <th></th>\n",
       "      <th>app</th>\n",
       "      <th>category</th>\n",
       "      <th>rating</th>\n",
       "      <th>reviews</th>\n",
       "      <th>size(kb)</th>\n",
       "      <th>installs</th>\n",
       "      <th>type</th>\n",
       "      <th>price</th>\n",
       "      <th>content_rating</th>\n",
       "      <th>genres</th>\n",
       "      <th>last_updated</th>\n",
       "    </tr>\n",
       "  </thead>\n",
       "  <tbody>\n",
       "    <tr>\n",
       "      <th>1750</th>\n",
       "      <td>SUBWAY SURFERS</td>\n",
       "      <td>GAME</td>\n",
       "      <td>4.5</td>\n",
       "      <td>27724094</td>\n",
       "      <td>77824.0</td>\n",
       "      <td>1000000000</td>\n",
       "      <td>FREE</td>\n",
       "      <td>0.0</td>\n",
       "      <td>EVERYONE 10+</td>\n",
       "      <td>ARCADE</td>\n",
       "      <td>2018</td>\n",
       "    </tr>\n",
       "    <tr>\n",
       "      <th>1654</th>\n",
       "      <td>SUBWAY SURFERS</td>\n",
       "      <td>GAME</td>\n",
       "      <td>4.5</td>\n",
       "      <td>27722264</td>\n",
       "      <td>77824.0</td>\n",
       "      <td>1000000000</td>\n",
       "      <td>FREE</td>\n",
       "      <td>0.0</td>\n",
       "      <td>EVERYONE 10+</td>\n",
       "      <td>ARCADE</td>\n",
       "      <td>2018</td>\n",
       "    </tr>\n",
       "    <tr>\n",
       "      <th>1700</th>\n",
       "      <td>SUBWAY SURFERS</td>\n",
       "      <td>GAME</td>\n",
       "      <td>4.5</td>\n",
       "      <td>27723193</td>\n",
       "      <td>77824.0</td>\n",
       "      <td>1000000000</td>\n",
       "      <td>FREE</td>\n",
       "      <td>0.0</td>\n",
       "      <td>EVERYONE 10+</td>\n",
       "      <td>ARCADE</td>\n",
       "      <td>2018</td>\n",
       "    </tr>\n",
       "    <tr>\n",
       "      <th>1917</th>\n",
       "      <td>SUBWAY SURFERS</td>\n",
       "      <td>GAME</td>\n",
       "      <td>4.5</td>\n",
       "      <td>27725352</td>\n",
       "      <td>77824.0</td>\n",
       "      <td>1000000000</td>\n",
       "      <td>FREE</td>\n",
       "      <td>0.0</td>\n",
       "      <td>EVERYONE 10+</td>\n",
       "      <td>ARCADE</td>\n",
       "      <td>2018</td>\n",
       "    </tr>\n",
       "    <tr>\n",
       "      <th>3896</th>\n",
       "      <td>SUBWAY SURFERS</td>\n",
       "      <td>GAME</td>\n",
       "      <td>4.5</td>\n",
       "      <td>27711703</td>\n",
       "      <td>77824.0</td>\n",
       "      <td>1000000000</td>\n",
       "      <td>FREE</td>\n",
       "      <td>0.0</td>\n",
       "      <td>EVERYONE 10+</td>\n",
       "      <td>ARCADE</td>\n",
       "      <td>2018</td>\n",
       "    </tr>\n",
       "    <tr>\n",
       "      <th>1872</th>\n",
       "      <td>SUBWAY SURFERS</td>\n",
       "      <td>GAME</td>\n",
       "      <td>4.5</td>\n",
       "      <td>27725352</td>\n",
       "      <td>77824.0</td>\n",
       "      <td>1000000000</td>\n",
       "      <td>FREE</td>\n",
       "      <td>0.0</td>\n",
       "      <td>EVERYONE 10+</td>\n",
       "      <td>ARCADE</td>\n",
       "      <td>2018</td>\n",
       "    </tr>\n",
       "    <tr>\n",
       "      <th>1886</th>\n",
       "      <td>TEMPLE RUN 2</td>\n",
       "      <td>GAME</td>\n",
       "      <td>4.3</td>\n",
       "      <td>8119151</td>\n",
       "      <td>63488.0</td>\n",
       "      <td>500000000</td>\n",
       "      <td>FREE</td>\n",
       "      <td>0.0</td>\n",
       "      <td>EVERYONE</td>\n",
       "      <td>ACTION</td>\n",
       "      <td>2018</td>\n",
       "    </tr>\n",
       "    <tr>\n",
       "      <th>1705</th>\n",
       "      <td>CANDY CRUSH SAGA</td>\n",
       "      <td>GAME</td>\n",
       "      <td>4.4</td>\n",
       "      <td>22428456</td>\n",
       "      <td>75776.0</td>\n",
       "      <td>500000000</td>\n",
       "      <td>FREE</td>\n",
       "      <td>0.0</td>\n",
       "      <td>EVERYONE</td>\n",
       "      <td>CASUAL</td>\n",
       "      <td>2018</td>\n",
       "    </tr>\n",
       "    <tr>\n",
       "      <th>1920</th>\n",
       "      <td>TEMPLE RUN 2</td>\n",
       "      <td>GAME</td>\n",
       "      <td>4.3</td>\n",
       "      <td>8119154</td>\n",
       "      <td>63488.0</td>\n",
       "      <td>500000000</td>\n",
       "      <td>FREE</td>\n",
       "      <td>0.0</td>\n",
       "      <td>EVERYONE</td>\n",
       "      <td>ACTION</td>\n",
       "      <td>2018</td>\n",
       "    </tr>\n",
       "    <tr>\n",
       "      <th>1702</th>\n",
       "      <td>POU</td>\n",
       "      <td>GAME</td>\n",
       "      <td>4.3</td>\n",
       "      <td>10485334</td>\n",
       "      <td>24576.0</td>\n",
       "      <td>500000000</td>\n",
       "      <td>FREE</td>\n",
       "      <td>0.0</td>\n",
       "      <td>EVERYONE</td>\n",
       "      <td>CASUAL</td>\n",
       "      <td>2018</td>\n",
       "    </tr>\n",
       "  </tbody>\n",
       "</table>\n",
       "</div>"
      ],
      "text/plain": [
       "                   app category  rating   reviews  size(kb)    installs  type  \\\n",
       "1750    SUBWAY SURFERS     GAME     4.5  27724094   77824.0  1000000000  FREE   \n",
       "1654    SUBWAY SURFERS     GAME     4.5  27722264   77824.0  1000000000  FREE   \n",
       "1700    SUBWAY SURFERS     GAME     4.5  27723193   77824.0  1000000000  FREE   \n",
       "1917    SUBWAY SURFERS     GAME     4.5  27725352   77824.0  1000000000  FREE   \n",
       "3896    SUBWAY SURFERS     GAME     4.5  27711703   77824.0  1000000000  FREE   \n",
       "1872    SUBWAY SURFERS     GAME     4.5  27725352   77824.0  1000000000  FREE   \n",
       "1886      TEMPLE RUN 2     GAME     4.3   8119151   63488.0   500000000  FREE   \n",
       "1705  CANDY CRUSH SAGA     GAME     4.4  22428456   75776.0   500000000  FREE   \n",
       "1920      TEMPLE RUN 2     GAME     4.3   8119154   63488.0   500000000  FREE   \n",
       "1702               POU     GAME     4.3  10485334   24576.0   500000000  FREE   \n",
       "\n",
       "      price content_rating  genres  last_updated  \n",
       "1750    0.0   EVERYONE 10+  ARCADE          2018  \n",
       "1654    0.0   EVERYONE 10+  ARCADE          2018  \n",
       "1700    0.0   EVERYONE 10+  ARCADE          2018  \n",
       "1917    0.0   EVERYONE 10+  ARCADE          2018  \n",
       "3896    0.0   EVERYONE 10+  ARCADE          2018  \n",
       "1872    0.0   EVERYONE 10+  ARCADE          2018  \n",
       "1886    0.0       EVERYONE  ACTION          2018  \n",
       "1705    0.0       EVERYONE  CASUAL          2018  \n",
       "1920    0.0       EVERYONE  ACTION          2018  \n",
       "1702    0.0       EVERYONE  CASUAL          2018  "
      ]
     },
     "execution_count": 82,
     "metadata": {},
     "output_type": "execute_result"
    }
   ],
   "source": [
    "ga_cat"
   ]
  },
  {
   "cell_type": "markdown",
   "metadata": {},
   "source": [
    "__Does category correlate with rating?__"
   ]
  },
  {
   "cell_type": "code",
   "execution_count": 90,
   "metadata": {},
   "outputs": [
    {
     "data": {
      "text/plain": [
       "(array([ 0,  1,  2,  3,  4,  5,  6,  7,  8,  9, 10, 11, 12, 13, 14, 15, 16,\n",
       "        17, 18, 19, 20, 21, 22, 23, 24, 25, 26, 27, 28, 29, 30, 31, 32]),\n",
       " [Text(0, 0, 'ART_AND_DESIGN'),\n",
       "  Text(1, 0, 'AUTO_AND_VEHICLES'),\n",
       "  Text(2, 0, 'BEAUTY'),\n",
       "  Text(3, 0, 'BOOKS_AND_REFERENCE'),\n",
       "  Text(4, 0, 'BUSINESS'),\n",
       "  Text(5, 0, 'COMICS'),\n",
       "  Text(6, 0, 'COMMUNICATION'),\n",
       "  Text(7, 0, 'DATING'),\n",
       "  Text(8, 0, 'EDUCATION'),\n",
       "  Text(9, 0, 'ENTERTAINMENT'),\n",
       "  Text(10, 0, 'EVENTS'),\n",
       "  Text(11, 0, 'FINANCE'),\n",
       "  Text(12, 0, 'FOOD_AND_DRINK'),\n",
       "  Text(13, 0, 'HEALTH_AND_FITNESS'),\n",
       "  Text(14, 0, 'HOUSE_AND_HOME'),\n",
       "  Text(15, 0, 'LIBRARIES_AND_DEMO'),\n",
       "  Text(16, 0, 'LIFESTYLE'),\n",
       "  Text(17, 0, 'GAME'),\n",
       "  Text(18, 0, 'FAMILY'),\n",
       "  Text(19, 0, 'MEDICAL'),\n",
       "  Text(20, 0, 'SOCIAL'),\n",
       "  Text(21, 0, 'SHOPPING'),\n",
       "  Text(22, 0, 'PHOTOGRAPHY'),\n",
       "  Text(23, 0, 'SPORTS'),\n",
       "  Text(24, 0, 'TRAVEL_AND_LOCAL'),\n",
       "  Text(25, 0, 'TOOLS'),\n",
       "  Text(26, 0, 'PERSONALIZATION'),\n",
       "  Text(27, 0, 'PRODUCTIVITY'),\n",
       "  Text(28, 0, 'PARENTING'),\n",
       "  Text(29, 0, 'WEATHER'),\n",
       "  Text(30, 0, 'VIDEO_PLAYERS'),\n",
       "  Text(31, 0, 'NEWS_AND_MAGAZINES'),\n",
       "  Text(32, 0, 'MAPS_AND_NAVIGATION')])"
      ]
     },
     "execution_count": 90,
     "metadata": {},
     "output_type": "execute_result"
    },
    {
     "data": {
      "image/png": "[encoded data removed]",
      "text/plain": [
       "<Figure size 1440x576 with 1 Axes>"
      ]
     },
     "metadata": {
      "needs_background": "light"
     },
     "output_type": "display_data"
    }
   ],
   "source": [
    "plt.figure(figsize=(20, 8))\n",
    "sns.boxplot(data=df, x='category', y = 'rating')\n",
    "plt.title('Ratings vs Category')\n",
    "plt.xticks(rotation=60)"
   ]
  },
  {
   "cell_type": "markdown",
   "metadata": {},
   "source": [
    "We can see from these boxplots the mean of ratings across the different categories do not some very different."
   ]
  },
  {
   "cell_type": "markdown",
   "metadata": {},
   "source": [
    "__How many apps are free and paid?__"
   ]
  },
  {
   "cell_type": "code",
   "execution_count": 92,
   "metadata": {},
   "outputs": [
    {
     "data": {
      "text/plain": [
       "Text(0.5, 1.0, 'Number of free and Paid Apps')"
      ]
     },
     "execution_count": 92,
     "metadata": {},
     "output_type": "execute_result"
    },
    {
     "data": {
      "image/png": "[encoded data removed]",
      "text/plain": [
       "<Figure size 432x288 with 1 Axes>"
      ]
     },
     "metadata": {
      "needs_background": "light"
     },
     "output_type": "display_data"
    }
   ],
   "source": [
    "sns.countplot(data=df, x='type')\n",
    "plt.title('Number of free and Paid Apps')"
   ]
  },
  {
   "cell_type": "markdown",
   "metadata": {},
   "source": [
    "__What the relationship between apps being type and number of installs?__"
   ]
  },
  {
   "cell_type": "code",
   "execution_count": 104,
   "metadata": {},
   "outputs": [],
   "source": [
    "type_ins = df.groupby('type')['installs'].sum().reset_index()"
   ]
  },
  {
   "cell_type": "code",
   "execution_count": 105,
   "metadata": {},
   "outputs": [
    {
     "data": {
      "text/html": [
       "<div>\n",
       "<style scoped>\n",
       "    .dataframe tbody tr th:only-of-type {\n",
       "        vertical-align: middle;\n",
       "    }\n",
       "\n",
       "    .dataframe tbody tr th {\n",
       "        vertical-align: top;\n",
       "    }\n",
       "\n",
       "    .dataframe thead th {\n",
       "        text-align: right;\n",
       "    }\n",
       "</style>\n",
       "<table border=\"1\" class=\"dataframe\">\n",
       "  <thead>\n",
       "    <tr style=\"text-align: right;\">\n",
       "      <th></th>\n",
       "      <th>type</th>\n",
       "      <th>installs</th>\n",
       "    </tr>\n",
       "  </thead>\n",
       "  <tbody>\n",
       "    <tr>\n",
       "      <th>0</th>\n",
       "      <td>FREE</td>\n",
       "      <td>167560477406</td>\n",
       "    </tr>\n",
       "    <tr>\n",
       "      <th>1</th>\n",
       "      <td>PAID</td>\n",
       "      <td>72956081</td>\n",
       "    </tr>\n",
       "  </tbody>\n",
       "</table>\n",
       "</div>"
      ],
      "text/plain": [
       "   type      installs\n",
       "0  FREE  167560477406\n",
       "1  PAID      72956081"
      ]
     },
     "execution_count": 105,
     "metadata": {},
     "output_type": "execute_result"
    }
   ],
   "source": [
    "type_ins"
   ]
  },
  {
   "cell_type": "code",
   "execution_count": 107,
   "metadata": {},
   "outputs": [
    {
     "data": {
      "text/plain": [
       "(array([0, 1]), [Text(0, 0, 'FREE'), Text(1, 0, 'PAID')])"
      ]
     },
     "execution_count": 107,
     "metadata": {},
     "output_type": "execute_result"
    },
    {
     "data": {
      "image/png": "[encoded data removed]",
      "text/plain": [
       "<Figure size 432x288 with 1 Axes>"
      ]
     },
     "metadata": {
      "needs_background": "light"
     },
     "output_type": "display_data"
    }
   ],
   "source": [
    "sns.barplot(data=type_ins, x='type', y = 'installs')\n",
    "plt.title('Installations by Type (Free or Paid)')\n",
    "plt.xticks(rotation=60)"
   ]
  },
  {
   "cell_type": "markdown",
   "metadata": {},
   "source": [
    "__What is the relationship between type and ratings?__"
   ]
  },
  {
   "cell_type": "code",
   "execution_count": 109,
   "metadata": {},
   "outputs": [
    {
     "data": {
      "text/plain": [
       "Text(0.5, 1.0, 'Rating and Type')"
      ]
     },
     "execution_count": 109,
     "metadata": {},
     "output_type": "execute_result"
    },
    {
     "data": {
      "image/png": "[encoded data removed]",
      "text/plain": [
       "<Figure size 360x360 with 1 Axes>"
      ]
     },
     "metadata": {
      "needs_background": "light"
     },
     "output_type": "display_data"
    }
   ],
   "source": [
    "plt.figure(figsize=(5,5))\n",
    "sns.boxplot(data=df, x='type', y='rating')\n",
    "plt.title('Rating and Type')"
   ]
  },
  {
   "cell_type": "markdown",
   "metadata": {},
   "source": [
    "Rating of Paid apps are higher than free apps."
   ]
  },
  {
   "cell_type": "markdown",
   "metadata": {},
   "source": [
    "__Distributions of number reviews__"
   ]
  },
  {
   "cell_type": "code",
   "execution_count": 111,
   "metadata": {},
   "outputs": [
    {
     "data": {
      "text/plain": [
       "Text(0.5, 1.0, 'Distribution of Reviews')"
      ]
     },
     "execution_count": 111,
     "metadata": {},
     "output_type": "execute_result"
    },
    {
     "data": {
      "image/png": "[encoded data removed]",
      "text/plain": [
       "<Figure size 432x288 with 1 Axes>"
      ]
     },
     "metadata": {
      "needs_background": "light"
     },
     "output_type": "display_data"
    }
   ],
   "source": [
    "sns.distplot(df['reviews'])\n",
    "plt.title('Distribution of Reviews', size=20)"
   ]
  },
  {
   "cell_type": "markdown",
   "metadata": {},
   "source": [
    "The vast majority of apps have less than 10M reviews."
   ]
  },
  {
   "cell_type": "markdown",
   "metadata": {},
   "source": [
    "__Correction between installs and reviews__"
   ]
  },
  {
   "cell_type": "code",
   "execution_count": 113,
   "metadata": {},
   "outputs": [
    {
     "data": {
      "text/plain": [
       "<AxesSubplot:>"
      ]
     },
     "execution_count": 113,
     "metadata": {},
     "output_type": "execute_result"
    },
    {
     "data": {
      "image/png": "[encoded data removed]",
      "text/plain": [
       "<Figure size 432x288 with 2 Axes>"
      ]
     },
     "metadata": {
      "needs_background": "light"
     },
     "output_type": "display_data"
    }
   ],
   "source": [
    "corr_matrix = df.corr()\n",
    "sns.heatmap(corr_matrix)"
   ]
  },
  {
   "cell_type": "markdown",
   "metadata": {},
   "source": [
    "As we can see, The correction between reviews and installs is positive correction."
   ]
  },
  {
   "cell_type": "markdown",
   "metadata": {},
   "source": [
    "__How does size impact installations?__"
   ]
  },
  {
   "cell_type": "code",
   "execution_count": 115,
   "metadata": {},
   "outputs": [
    {
     "data": {
      "text/plain": [
       "Text(0.5, 1.0, 'Size and Installs')"
      ]
     },
     "execution_count": 115,
     "metadata": {},
     "output_type": "execute_result"
    },
    {
     "data": {
      "image/png": "[encoded data removed]",
      "text/plain": [
       "<Figure size 1440x504 with 1 Axes>"
      ]
     },
     "metadata": {
      "needs_background": "light"
     },
     "output_type": "display_data"
    }
   ],
   "source": [
    "plt.figure(figsize=(20, 7))\n",
    "sns.lineplot(data=df, x='size(kb)', y ='installs')\n",
    "plt.title('Size and Installs')"
   ]
  },
  {
   "cell_type": "markdown",
   "metadata": {},
   "source": [
    "We can see that there seems to be a couple of sweet spots, from about 10000kb to 18000kb, and then from 75000kb to 80000kb in terms of installtions."
   ]
  },
  {
   "cell_type": "markdown",
   "metadata": {},
   "source": [
    "__How does size impact rating?__"
   ]
  },
  {
   "cell_type": "code",
   "execution_count": 117,
   "metadata": {},
   "outputs": [
    {
     "data": {
      "text/plain": [
       "<seaborn.axisgrid.JointGrid at 0x18927b93df0>"
      ]
     },
     "execution_count": 117,
     "metadata": {},
     "output_type": "execute_result"
    },
    {
     "data": {
      "text/plain": [
       "<Figure size 720x720 with 0 Axes>"
      ]
     },
     "metadata": {},
     "output_type": "display_data"
    },
    {
     "data": {
      "image/png": "[encoded data removed]",
      "text/plain": [
       "<Figure size 432x432 with 3 Axes>"
      ]
     },
     "metadata": {
      "needs_background": "light"
     },
     "output_type": "display_data"
    }
   ],
   "source": [
    "plt.figure(figsize=(10, 10))\n",
    "sns.jointplot(data=df, x='size(kb)', y = 'rating', kind='reg')"
   ]
  },
  {
   "cell_type": "code",
   "execution_count": null,
   "metadata": {},
   "outputs": [],
   "source": []
  }
 ],
 "metadata": {
  "kernelspec": {
   "display_name": "Python 3.9.12 ('base')",
   "language": "python",
   "name": "python3"
  },
  "language_info": {
   "codemirror_mode": {
    "name": "ipython",
    "version": 3
   },
   "file_extension": ".py",
   "mimetype": "text/x-python",
   "name": "python",
   "nbconvert_exporter": "python",
   "pygments_lexer": "ipython3",
   "version": "3.9.12"
  },
  "orig_nbformat": 4,
  "vscode": {
   "interpreter": {
    "hash": "0e0d5a91f37e5e94c46f0fcb877a7750a213205c99f3374c7ae9a15f2ce6e579"
   }
  }
 },
 "nbformat": 4,
 "nbformat_minor": 2
}
